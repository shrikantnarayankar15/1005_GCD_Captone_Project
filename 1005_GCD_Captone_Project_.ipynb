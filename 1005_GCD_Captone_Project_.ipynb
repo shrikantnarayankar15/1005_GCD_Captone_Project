{
  "nbformat": 4,
  "nbformat_minor": 0,
  "metadata": {
    "accelerator": "GPU",
    "colab": {
      "name": "1005_GCD_Captone_Project .ipynb",
      "provenance": [],
      "collapsed_sections": []
    },
    "kernelspec": {
      "display_name": "Python 3",
      "language": "python",
      "name": "python3"
    },
    "language_info": {
      "codemirror_mode": {
        "name": "ipython",
        "version": 3
      },
      "file_extension": ".py",
      "mimetype": "text/x-python",
      "name": "python",
      "nbconvert_exporter": "python",
      "pygments_lexer": "ipython3",
      "version": "3.7.3"
    }
  },
  "cells": [
    {
      "cell_type": "markdown",
      "metadata": {
        "id": "cTts3uvguDz9"
      },
      "source": [
        "<img src = 'https://github.com/insaid2018/Term-1/blob/master/Images/INSAID_Full%20Logo.png?raw=true' width=\"240\" height=\"360\">\n",
        "\n",
        "<h1 style=\"text-align: center; color: #173587\"> <u> <space>Employee Attrition Prediction </u></h1>"
      ]
    },
    {
      "cell_type": "markdown",
      "metadata": {
        "id": "Y1uo1sTKuDz9"
      },
      "source": [
        "<img src = 'https://github.com/SharvariNagesh/Capstone-ML/blob/master/images/High-employee-turnover-1280x720.jpg?raw=true' width=\"840\" height=\"960\">"
      ]
    },
    {
      "cell_type": "markdown",
      "metadata": {
        "id": "Qjr7KaQnPmsY"
      },
      "source": [
        "\n",
        "## Table of Content\n",
        "1. [Problem Statement](#section1)<br>\n",
        "2. [Importing required libraries](#section2)<br>\n",
        "3. [Loading data](#section3)<br> \n",
        "  - 3.1 [Loading train data from the INSAID DB server](#section301)<br>\n",
        "  - 3.2 [Loading Unseen test data](#section302)<br>\n",
        "4. [Dataset Description](#section4)<br>\n",
        "  - 4.1 [Describing department_data](#section401)<br>\n",
        "  - 4.2 [Describing employee_data](#section402)<br>\n",
        "  - 4.3 [Describing employee_details_data](#section403)<br>\n",
        "  - 4.4 [Data Description](#section404)<br>\n",
        "5. [Examining the Data](#section4)<br>\n",
        "  - 5.1 [Examining unseen test_data](#section501)<br>\n",
        "  - 5.2 [Describing challenges present in the data](#section502)<br>\n",
        "6. [Resolving the challenges in the data](#section6)<br>\n",
        "7. [EDA and Inferences](#section7)<br>\n",
        "    - 7.1 [EDA of variables and their relation with the target variables](#section701)<br>\n",
        "    \t- 7.1.1 [Univariate Analysis](#section70101)<br>\n",
        "    \t- 7.1.2 [Bivariate Analysis - CountPlots](#section70102)<br>\n",
        "8. [Modelling](#section8)<br>\n",
        "\t- 8.1 [Feature Engineering](#section801)<br>\n",
        "\t- 8.2 [Finding Baseline Model](#section802)<br>\n",
        "\t- 8.3 [Hyper parameter tuning](#section803)<br>\n",
        "9. [Submission for unseen data](#section9)<br>\n",
        "\t- 9.1 [Creating the Submission file](#section901)<br>\n",
        "10. [Conclusions](#section10)<br>\n"
      ]
    },
    {
      "cell_type": "markdown",
      "metadata": {
        "id": "RB5qk106uDz9"
      },
      "source": [
        "<a id=section1></a>\n",
        "# 1. Problem statement\n",
        "<p>\n",
        "In this project, we are trying to understand the pattern of **employee attrition ** in the company, what are the possible reasons for an employees to leave the company. We are building a Classification Model to support our HR team which will predict whether the employee will leave or stay with the company, this will help HR to take preventive action to reduce attrition."
      ]
    },
    {
      "cell_type": "markdown",
      "metadata": {
        "id": "Ci9ITcMpuDz9"
      },
      "source": [
        "<a id=section2></a>\n",
        "# 2. Importing required libraries\n",
        "\n",
        "Data is present in a database hosted on **\"cpanel.insaid.co\"** serving. Importing data from the mysql database."
      ]
    },
    {
      "cell_type": "code",
      "metadata": {
        "id": "b7BeaK_VRIeJ"
      },
      "source": [
        "import pandas as pd\n",
        "import numpy as np\n",
        "import seaborn as sns\n",
        "import matplotlib.pyplot as plt"
      ],
      "execution_count": null,
      "outputs": []
    },
    {
      "cell_type": "markdown",
      "metadata": {
        "id": "ZoTY8W-RuDz-"
      },
      "source": [
        "<a id=section3></a>\n",
        "# 3. Loading data"
      ]
    },
    {
      "cell_type": "markdown",
      "metadata": {
        "id": "NZiLsEVluDz-"
      },
      "source": [
        "<a id=section301></a>\n",
        "## 3.1 Loading train data from the INSAID DB server"
      ]
    },
    {
      "cell_type": "markdown",
      "metadata": {
        "id": "JlYr5ijbuD0A"
      },
      "source": [
        "Setting database credentials of the database:"
      ]
    },
    {
      "cell_type": "code",
      "metadata": {
        "id": "f3nMcGrKPvTb"
      },
      "source": [
        "import mysql.connector\n",
        "\n",
        "mydb = mysql.connector.connect(\n",
        "  host=\"cpanel.insaid.co\",\n",
        "  user=\"student\",\n",
        "  password=\"student\",\n",
        "  database=\"Capstone2\"\n",
        ")"
      ],
      "execution_count": null,
      "outputs": []
    },
    {
      "cell_type": "markdown",
      "metadata": {
        "id": "zQq4vjA_uD0A"
      },
      "source": [
        "Setting table names and fetching data:"
      ]
    },
    {
      "cell_type": "code",
      "metadata": {
        "id": "eZe2I4MyQFWo"
      },
      "source": [
        "tables = ['department_data', 'employee_details_data', 'employee_data']"
      ],
      "execution_count": null,
      "outputs": []
    },
    {
      "cell_type": "code",
      "metadata": {
        "id": "T3z6hjW2QCks"
      },
      "source": [
        "sql_tables = {}\n",
        "data = []\n",
        "for table_name in tables:\n",
        "  mycursor = mydb.cursor(buffered=True , dictionary=True)\n",
        "\n",
        "  mycursor.execute(\"SELECT * FROM \"+table_name)\n",
        "\n",
        "  myresult = mycursor.fetchall()\n",
        "  sql_tables[table_name] = pd.DataFrame(myresult)\n",
        "  data.append(myresult)\n"
      ],
      "execution_count": null,
      "outputs": []
    },
    {
      "cell_type": "markdown",
      "metadata": {
        "id": "4DaNQ339uD0A"
      },
      "source": [
        " **Note:** There are 3 tables from where data needs to be pulled. <br>\n",
        "  - **department_data** \n",
        "  - **employee_details_data**\n",
        "  - **employee_data** "
      ]
    },
    {
      "cell_type": "markdown",
      "metadata": {
        "id": "XkamkKyRuD0A"
      },
      "source": [
        "<a id=section302></a>\n",
        "## 3.2 Loading Unseen test data "
      ]
    },
    {
      "cell_type": "code",
      "metadata": {
        "id": "PkdJq6UquD0A"
      },
      "source": [
        "test_data = pd.read_csv('https://raw.githubusercontent.com/SharvariNagesh/Capstone-ML/master/content/GCD_Capstone_Project_unseen_data%20-%20GCD_Capstone_Project_unseen_data.csv')"
      ],
      "execution_count": null,
      "outputs": []
    },
    {
      "cell_type": "markdown",
      "metadata": {
        "id": "UBFhdNGeuD0A"
      },
      "source": [
        "<a id=section4></a>\n",
        "# 4. Dataset Description"
      ]
    },
    {
      "cell_type": "markdown",
      "metadata": {
        "id": "PWEr7en3uD0A"
      },
      "source": [
        "<a id=section401></a>\n",
        "## 4.1 Describing department_data"
      ]
    },
    {
      "cell_type": "code",
      "metadata": {
        "colab": {
          "base_uri": "https://localhost:8080/",
          "height": 190
        },
        "id": "6QVZswAHWq_u",
        "outputId": "24f42ea7-1f5c-42dc-bb0f-b6bc707e924c"
      },
      "source": [
        "sql_tables['department_data'].head()"
      ],
      "execution_count": null,
      "outputs": [
        {
          "output_type": "execute_result",
          "data": {
            "text/html": [
              "<div>\n",
              "<style scoped>\n",
              "    .dataframe tbody tr th:only-of-type {\n",
              "        vertical-align: middle;\n",
              "    }\n",
              "\n",
              "    .dataframe tbody tr th {\n",
              "        vertical-align: top;\n",
              "    }\n",
              "\n",
              "    .dataframe thead th {\n",
              "        text-align: right;\n",
              "    }\n",
              "</style>\n",
              "<table border=\"1\" class=\"dataframe\">\n",
              "  <thead>\n",
              "    <tr style=\"text-align: right;\">\n",
              "      <th></th>\n",
              "      <th>dept_id</th>\n",
              "      <th>dept_name</th>\n",
              "      <th>dept_head</th>\n",
              "    </tr>\n",
              "  </thead>\n",
              "  <tbody>\n",
              "    <tr>\n",
              "      <th>0</th>\n",
              "      <td>D00-IT</td>\n",
              "      <td>IT</td>\n",
              "      <td>Henry Adey</td>\n",
              "    </tr>\n",
              "    <tr>\n",
              "      <th>1</th>\n",
              "      <td>D00-SS</td>\n",
              "      <td>Sales</td>\n",
              "      <td>Edward J Bayley</td>\n",
              "    </tr>\n",
              "    <tr>\n",
              "      <th>2</th>\n",
              "      <td>D00-TP</td>\n",
              "      <td>Temp</td>\n",
              "      <td>Micheal Zachrey</td>\n",
              "    </tr>\n",
              "    <tr>\n",
              "      <th>3</th>\n",
              "      <td>D00-ENG</td>\n",
              "      <td>Engineering</td>\n",
              "      <td>Sushant Raghunathan K</td>\n",
              "    </tr>\n",
              "    <tr>\n",
              "      <th>4</th>\n",
              "      <td>D00-SP</td>\n",
              "      <td>Support</td>\n",
              "      <td>Amelia Westray</td>\n",
              "    </tr>\n",
              "  </tbody>\n",
              "</table>\n",
              "</div>"
            ],
            "text/plain": [
              "   dept_id    dept_name              dept_head\n",
              "0   D00-IT           IT             Henry Adey\n",
              "1   D00-SS        Sales        Edward J Bayley\n",
              "2   D00-TP         Temp        Micheal Zachrey\n",
              "3  D00-ENG  Engineering  Sushant Raghunathan K\n",
              "4   D00-SP      Support         Amelia Westray"
            ]
          },
          "metadata": {
            "tags": []
          },
          "execution_count": 7
        }
      ]
    },
    {
      "cell_type": "code",
      "metadata": {
        "colab": {
          "base_uri": "https://localhost:8080/"
        },
        "id": "QDu12jmkuD0A",
        "outputId": "3b33fb75-ed35-4941-f6b8-c9f3f240f5c8"
      },
      "source": [
        "sql_tables['department_data'].info()"
      ],
      "execution_count": null,
      "outputs": [
        {
          "output_type": "stream",
          "text": [
            "<class 'pandas.core.frame.DataFrame'>\n",
            "RangeIndex: 11 entries, 0 to 10\n",
            "Data columns (total 3 columns):\n",
            " #   Column     Non-Null Count  Dtype \n",
            "---  ------     --------------  ----- \n",
            " 0   dept_id    11 non-null     object\n",
            " 1   dept_name  11 non-null     object\n",
            " 2   dept_head  11 non-null     object\n",
            "dtypes: object(3)\n",
            "memory usage: 392.0+ bytes\n"
          ],
          "name": "stdout"
        }
      ]
    },
    {
      "cell_type": "code",
      "metadata": {
        "colab": {
          "base_uri": "https://localhost:8080/",
          "height": 162
        },
        "id": "ZwUZleEfuD0A",
        "outputId": "bd3ba61e-6ed1-499e-865e-10c162a4038b"
      },
      "source": [
        "sql_tables['department_data'].describe()"
      ],
      "execution_count": null,
      "outputs": [
        {
          "output_type": "execute_result",
          "data": {
            "text/html": [
              "<div>\n",
              "<style scoped>\n",
              "    .dataframe tbody tr th:only-of-type {\n",
              "        vertical-align: middle;\n",
              "    }\n",
              "\n",
              "    .dataframe tbody tr th {\n",
              "        vertical-align: top;\n",
              "    }\n",
              "\n",
              "    .dataframe thead th {\n",
              "        text-align: right;\n",
              "    }\n",
              "</style>\n",
              "<table border=\"1\" class=\"dataframe\">\n",
              "  <thead>\n",
              "    <tr style=\"text-align: right;\">\n",
              "      <th></th>\n",
              "      <th>dept_id</th>\n",
              "      <th>dept_name</th>\n",
              "      <th>dept_head</th>\n",
              "    </tr>\n",
              "  </thead>\n",
              "  <tbody>\n",
              "    <tr>\n",
              "      <th>count</th>\n",
              "      <td>11</td>\n",
              "      <td>11</td>\n",
              "      <td>11</td>\n",
              "    </tr>\n",
              "    <tr>\n",
              "      <th>unique</th>\n",
              "      <td>11</td>\n",
              "      <td>11</td>\n",
              "      <td>11</td>\n",
              "    </tr>\n",
              "    <tr>\n",
              "      <th>top</th>\n",
              "      <td>D00-FN</td>\n",
              "      <td>IT</td>\n",
              "      <td>Edward J Bayley</td>\n",
              "    </tr>\n",
              "    <tr>\n",
              "      <th>freq</th>\n",
              "      <td>1</td>\n",
              "      <td>1</td>\n",
              "      <td>1</td>\n",
              "    </tr>\n",
              "  </tbody>\n",
              "</table>\n",
              "</div>"
            ],
            "text/plain": [
              "       dept_id dept_name        dept_head\n",
              "count       11        11               11\n",
              "unique      11        11               11\n",
              "top     D00-FN        IT  Edward J Bayley\n",
              "freq         1         1                1"
            ]
          },
          "metadata": {
            "tags": []
          },
          "execution_count": 9
        }
      ]
    },
    {
      "cell_type": "markdown",
      "metadata": {
        "id": "qcbxMhFauD0B"
      },
      "source": [
        "<a id=section402></a>\n",
        "## 4.2 Describing employee_data"
      ]
    },
    {
      "cell_type": "code",
      "metadata": {
        "colab": {
          "base_uri": "https://localhost:8080/",
          "height": 190
        },
        "id": "kYqo63iAuD0B",
        "outputId": "057995b6-b8a8-4e8f-aca6-1b5ebbf74ae7"
      },
      "source": [
        "sql_tables['employee_data'].head()"
      ],
      "execution_count": null,
      "outputs": [
        {
          "output_type": "execute_result",
          "data": {
            "text/html": [
              "<div>\n",
              "<style scoped>\n",
              "    .dataframe tbody tr th:only-of-type {\n",
              "        vertical-align: middle;\n",
              "    }\n",
              "\n",
              "    .dataframe tbody tr th {\n",
              "        vertical-align: top;\n",
              "    }\n",
              "\n",
              "    .dataframe thead th {\n",
              "        text-align: right;\n",
              "    }\n",
              "</style>\n",
              "<table border=\"1\" class=\"dataframe\">\n",
              "  <thead>\n",
              "    <tr style=\"text-align: right;\">\n",
              "      <th></th>\n",
              "      <th>avg_monthly_hrs</th>\n",
              "      <th>department</th>\n",
              "      <th>filed_complaint</th>\n",
              "      <th>last_evaluation</th>\n",
              "      <th>n_projects</th>\n",
              "      <th>recently_promoted</th>\n",
              "      <th>salary</th>\n",
              "      <th>satisfaction</th>\n",
              "      <th>status</th>\n",
              "      <th>tenure</th>\n",
              "      <th>employee_id</th>\n",
              "    </tr>\n",
              "  </thead>\n",
              "  <tbody>\n",
              "    <tr>\n",
              "      <th>0</th>\n",
              "      <td>246.00</td>\n",
              "      <td>None</td>\n",
              "      <td>None</td>\n",
              "      <td>0.866838</td>\n",
              "      <td>6</td>\n",
              "      <td>NaN</td>\n",
              "      <td>medium</td>\n",
              "      <td>0.134415</td>\n",
              "      <td>Left</td>\n",
              "      <td>4.00</td>\n",
              "      <td>124467</td>\n",
              "    </tr>\n",
              "    <tr>\n",
              "      <th>1</th>\n",
              "      <td>134.00</td>\n",
              "      <td>None</td>\n",
              "      <td>None</td>\n",
              "      <td>0.555718</td>\n",
              "      <td>2</td>\n",
              "      <td>NaN</td>\n",
              "      <td>low</td>\n",
              "      <td>0.511041</td>\n",
              "      <td>Left</td>\n",
              "      <td>3.00</td>\n",
              "      <td>112210</td>\n",
              "    </tr>\n",
              "    <tr>\n",
              "      <th>2</th>\n",
              "      <td>156.00</td>\n",
              "      <td>D00-SS</td>\n",
              "      <td>1.00</td>\n",
              "      <td>0.474082</td>\n",
              "      <td>2</td>\n",
              "      <td>NaN</td>\n",
              "      <td>medium</td>\n",
              "      <td>0.405101</td>\n",
              "      <td>Left</td>\n",
              "      <td>3.00</td>\n",
              "      <td>126150</td>\n",
              "    </tr>\n",
              "    <tr>\n",
              "      <th>3</th>\n",
              "      <td>256.00</td>\n",
              "      <td>D00-SP</td>\n",
              "      <td>None</td>\n",
              "      <td>0.961360</td>\n",
              "      <td>6</td>\n",
              "      <td>NaN</td>\n",
              "      <td>low</td>\n",
              "      <td>0.152974</td>\n",
              "      <td>Left</td>\n",
              "      <td>4.00</td>\n",
              "      <td>125346</td>\n",
              "    </tr>\n",
              "    <tr>\n",
              "      <th>4</th>\n",
              "      <td>146.00</td>\n",
              "      <td>D00-SS</td>\n",
              "      <td>None</td>\n",
              "      <td>0.507349</td>\n",
              "      <td>2</td>\n",
              "      <td>NaN</td>\n",
              "      <td>medium</td>\n",
              "      <td>0.434845</td>\n",
              "      <td>Left</td>\n",
              "      <td>3.00</td>\n",
              "      <td>113707</td>\n",
              "    </tr>\n",
              "  </tbody>\n",
              "</table>\n",
              "</div>"
            ],
            "text/plain": [
              "  avg_monthly_hrs department filed_complaint  ...  status  tenure  employee_id\n",
              "0          246.00       None            None  ...    Left    4.00       124467\n",
              "1          134.00       None            None  ...    Left    3.00       112210\n",
              "2          156.00     D00-SS            1.00  ...    Left    3.00       126150\n",
              "3          256.00     D00-SP            None  ...    Left    4.00       125346\n",
              "4          146.00     D00-SS            None  ...    Left    3.00       113707\n",
              "\n",
              "[5 rows x 11 columns]"
            ]
          },
          "metadata": {
            "tags": []
          },
          "execution_count": 10
        }
      ]
    },
    {
      "cell_type": "code",
      "metadata": {
        "colab": {
          "base_uri": "https://localhost:8080/"
        },
        "id": "lRiRLAva94EC",
        "outputId": "41821b4f-c77e-454d-d1fc-39c56305ec8e"
      },
      "source": [
        "sql_tables['employee_data'].info()"
      ],
      "execution_count": null,
      "outputs": [
        {
          "output_type": "stream",
          "text": [
            "<class 'pandas.core.frame.DataFrame'>\n",
            "RangeIndex: 14150 entries, 0 to 14149\n",
            "Data columns (total 11 columns):\n",
            " #   Column             Non-Null Count  Dtype  \n",
            "---  ------             --------------  -----  \n",
            " 0   avg_monthly_hrs    14150 non-null  object \n",
            " 1   department         13443 non-null  object \n",
            " 2   filed_complaint    2046 non-null   object \n",
            " 3   last_evaluation    12663 non-null  float64\n",
            " 4   n_projects         14150 non-null  int64  \n",
            " 5   recently_promoted  297 non-null    float64\n",
            " 6   salary             14150 non-null  object \n",
            " 7   satisfaction       14000 non-null  float64\n",
            " 8   status             14150 non-null  object \n",
            " 9   tenure             14000 non-null  object \n",
            " 10  employee_id        14150 non-null  int64  \n",
            "dtypes: float64(3), int64(2), object(6)\n",
            "memory usage: 1.2+ MB\n"
          ],
          "name": "stdout"
        }
      ]
    },
    {
      "cell_type": "markdown",
      "metadata": {
        "id": "8frYcW5NuD0B"
      },
      "source": [
        "**Note** : employee_data table has missing data in the below columns:<br>\n",
        "a. tenure (150 records) <br>\n",
        "b. satisfaction(150 records) <br>\n",
        "c. last_evaluation(1487 records) <br>\n",
        "d. department(707 records) <br>\n",
        "e. filed_commplaint(12104) <br>\n",
        "f. recently_promoted(13853)<br>\n",
        "\n",
        "Missing data has to be handled."
      ]
    },
    {
      "cell_type": "code",
      "metadata": {
        "colab": {
          "base_uri": "https://localhost:8080/",
          "height": 190
        },
        "id": "X4KwwTt7WvgN",
        "outputId": "47dc4ab9-d3bf-464c-99fa-3300ff731e4c"
      },
      "source": [
        "sql_tables['employee_details_data'].head()"
      ],
      "execution_count": null,
      "outputs": [
        {
          "output_type": "execute_result",
          "data": {
            "text/html": [
              "<div>\n",
              "<style scoped>\n",
              "    .dataframe tbody tr th:only-of-type {\n",
              "        vertical-align: middle;\n",
              "    }\n",
              "\n",
              "    .dataframe tbody tr th {\n",
              "        vertical-align: top;\n",
              "    }\n",
              "\n",
              "    .dataframe thead th {\n",
              "        text-align: right;\n",
              "    }\n",
              "</style>\n",
              "<table border=\"1\" class=\"dataframe\">\n",
              "  <thead>\n",
              "    <tr style=\"text-align: right;\">\n",
              "      <th></th>\n",
              "      <th>employee_id</th>\n",
              "      <th>age</th>\n",
              "      <th>gender</th>\n",
              "      <th>marital_status</th>\n",
              "    </tr>\n",
              "  </thead>\n",
              "  <tbody>\n",
              "    <tr>\n",
              "      <th>0</th>\n",
              "      <td>113558</td>\n",
              "      <td>43</td>\n",
              "      <td>Male</td>\n",
              "      <td>Married</td>\n",
              "    </tr>\n",
              "    <tr>\n",
              "      <th>1</th>\n",
              "      <td>112256</td>\n",
              "      <td>24</td>\n",
              "      <td>Female</td>\n",
              "      <td>Unmarried</td>\n",
              "    </tr>\n",
              "    <tr>\n",
              "      <th>2</th>\n",
              "      <td>112586</td>\n",
              "      <td>22</td>\n",
              "      <td>Female</td>\n",
              "      <td>Unmarried</td>\n",
              "    </tr>\n",
              "    <tr>\n",
              "      <th>3</th>\n",
              "      <td>108071</td>\n",
              "      <td>36</td>\n",
              "      <td>Male</td>\n",
              "      <td>Married</td>\n",
              "    </tr>\n",
              "    <tr>\n",
              "      <th>4</th>\n",
              "      <td>116915</td>\n",
              "      <td>38</td>\n",
              "      <td>Male</td>\n",
              "      <td>Married</td>\n",
              "    </tr>\n",
              "  </tbody>\n",
              "</table>\n",
              "</div>"
            ],
            "text/plain": [
              "   employee_id  age  gender marital_status\n",
              "0       113558   43    Male        Married\n",
              "1       112256   24  Female      Unmarried\n",
              "2       112586   22  Female      Unmarried\n",
              "3       108071   36    Male        Married\n",
              "4       116915   38    Male        Married"
            ]
          },
          "metadata": {
            "tags": []
          },
          "execution_count": 12
        }
      ]
    },
    {
      "cell_type": "code",
      "metadata": {
        "colab": {
          "base_uri": "https://localhost:8080/",
          "height": 277
        },
        "id": "JR6spZI-uD0B",
        "outputId": "f857f93a-4b41-40e4-c25b-9eea39e5fb00"
      },
      "source": [
        "sql_tables['employee_details_data'].describe()"
      ],
      "execution_count": null,
      "outputs": [
        {
          "output_type": "execute_result",
          "data": {
            "text/html": [
              "<div>\n",
              "<style scoped>\n",
              "    .dataframe tbody tr th:only-of-type {\n",
              "        vertical-align: middle;\n",
              "    }\n",
              "\n",
              "    .dataframe tbody tr th {\n",
              "        vertical-align: top;\n",
              "    }\n",
              "\n",
              "    .dataframe thead th {\n",
              "        text-align: right;\n",
              "    }\n",
              "</style>\n",
              "<table border=\"1\" class=\"dataframe\">\n",
              "  <thead>\n",
              "    <tr style=\"text-align: right;\">\n",
              "      <th></th>\n",
              "      <th>employee_id</th>\n",
              "      <th>age</th>\n",
              "    </tr>\n",
              "  </thead>\n",
              "  <tbody>\n",
              "    <tr>\n",
              "      <th>count</th>\n",
              "      <td>14245.000000</td>\n",
              "      <td>14245.000000</td>\n",
              "    </tr>\n",
              "    <tr>\n",
              "      <th>mean</th>\n",
              "      <td>112123.050544</td>\n",
              "      <td>32.889926</td>\n",
              "    </tr>\n",
              "    <tr>\n",
              "      <th>std</th>\n",
              "      <td>8500.457343</td>\n",
              "      <td>9.970834</td>\n",
              "    </tr>\n",
              "    <tr>\n",
              "      <th>min</th>\n",
              "      <td>100101.000000</td>\n",
              "      <td>22.000000</td>\n",
              "    </tr>\n",
              "    <tr>\n",
              "      <th>25%</th>\n",
              "      <td>105775.000000</td>\n",
              "      <td>24.000000</td>\n",
              "    </tr>\n",
              "    <tr>\n",
              "      <th>50%</th>\n",
              "      <td>111298.000000</td>\n",
              "      <td>29.000000</td>\n",
              "    </tr>\n",
              "    <tr>\n",
              "      <th>75%</th>\n",
              "      <td>116658.000000</td>\n",
              "      <td>41.000000</td>\n",
              "    </tr>\n",
              "    <tr>\n",
              "      <th>max</th>\n",
              "      <td>148988.000000</td>\n",
              "      <td>57.000000</td>\n",
              "    </tr>\n",
              "  </tbody>\n",
              "</table>\n",
              "</div>"
            ],
            "text/plain": [
              "         employee_id           age\n",
              "count   14245.000000  14245.000000\n",
              "mean   112123.050544     32.889926\n",
              "std      8500.457343      9.970834\n",
              "min    100101.000000     22.000000\n",
              "25%    105775.000000     24.000000\n",
              "50%    111298.000000     29.000000\n",
              "75%    116658.000000     41.000000\n",
              "max    148988.000000     57.000000"
            ]
          },
          "metadata": {
            "tags": []
          },
          "execution_count": 13
        }
      ]
    },
    {
      "cell_type": "markdown",
      "metadata": {
        "id": "QetzB645-Mer"
      },
      "source": [
        "<a id=section403></a>\n",
        "## 4.3 Describing employee_details_data"
      ]
    },
    {
      "cell_type": "code",
      "metadata": {
        "colab": {
          "base_uri": "https://localhost:8080/",
          "height": 190
        },
        "id": "A_i--UHGW4lw",
        "outputId": "225c4cef-7d30-4a23-e3f7-d8fd5cb3de60"
      },
      "source": [
        "sql_tables['employee_details_data'].head()"
      ],
      "execution_count": null,
      "outputs": [
        {
          "output_type": "execute_result",
          "data": {
            "text/html": [
              "<div>\n",
              "<style scoped>\n",
              "    .dataframe tbody tr th:only-of-type {\n",
              "        vertical-align: middle;\n",
              "    }\n",
              "\n",
              "    .dataframe tbody tr th {\n",
              "        vertical-align: top;\n",
              "    }\n",
              "\n",
              "    .dataframe thead th {\n",
              "        text-align: right;\n",
              "    }\n",
              "</style>\n",
              "<table border=\"1\" class=\"dataframe\">\n",
              "  <thead>\n",
              "    <tr style=\"text-align: right;\">\n",
              "      <th></th>\n",
              "      <th>employee_id</th>\n",
              "      <th>age</th>\n",
              "      <th>gender</th>\n",
              "      <th>marital_status</th>\n",
              "    </tr>\n",
              "  </thead>\n",
              "  <tbody>\n",
              "    <tr>\n",
              "      <th>0</th>\n",
              "      <td>113558</td>\n",
              "      <td>43</td>\n",
              "      <td>Male</td>\n",
              "      <td>Married</td>\n",
              "    </tr>\n",
              "    <tr>\n",
              "      <th>1</th>\n",
              "      <td>112256</td>\n",
              "      <td>24</td>\n",
              "      <td>Female</td>\n",
              "      <td>Unmarried</td>\n",
              "    </tr>\n",
              "    <tr>\n",
              "      <th>2</th>\n",
              "      <td>112586</td>\n",
              "      <td>22</td>\n",
              "      <td>Female</td>\n",
              "      <td>Unmarried</td>\n",
              "    </tr>\n",
              "    <tr>\n",
              "      <th>3</th>\n",
              "      <td>108071</td>\n",
              "      <td>36</td>\n",
              "      <td>Male</td>\n",
              "      <td>Married</td>\n",
              "    </tr>\n",
              "    <tr>\n",
              "      <th>4</th>\n",
              "      <td>116915</td>\n",
              "      <td>38</td>\n",
              "      <td>Male</td>\n",
              "      <td>Married</td>\n",
              "    </tr>\n",
              "  </tbody>\n",
              "</table>\n",
              "</div>"
            ],
            "text/plain": [
              "   employee_id  age  gender marital_status\n",
              "0       113558   43    Male        Married\n",
              "1       112256   24  Female      Unmarried\n",
              "2       112586   22  Female      Unmarried\n",
              "3       108071   36    Male        Married\n",
              "4       116915   38    Male        Married"
            ]
          },
          "metadata": {
            "tags": []
          },
          "execution_count": 14
        }
      ]
    },
    {
      "cell_type": "code",
      "metadata": {
        "colab": {
          "base_uri": "https://localhost:8080/"
        },
        "id": "NrS8CWFluD0B",
        "outputId": "0250d5ee-7cb7-4706-e2d3-6bc4053b7ed5"
      },
      "source": [
        "sql_tables['employee_details_data'].info()"
      ],
      "execution_count": null,
      "outputs": [
        {
          "output_type": "stream",
          "text": [
            "<class 'pandas.core.frame.DataFrame'>\n",
            "RangeIndex: 14245 entries, 0 to 14244\n",
            "Data columns (total 4 columns):\n",
            " #   Column          Non-Null Count  Dtype \n",
            "---  ------          --------------  ----- \n",
            " 0   employee_id     14245 non-null  int64 \n",
            " 1   age             14245 non-null  int64 \n",
            " 2   gender          14245 non-null  object\n",
            " 3   marital_status  14245 non-null  object\n",
            "dtypes: int64(2), object(2)\n",
            "memory usage: 445.3+ KB\n"
          ],
          "name": "stdout"
        }
      ]
    },
    {
      "cell_type": "code",
      "metadata": {
        "colab": {
          "base_uri": "https://localhost:8080/",
          "height": 277
        },
        "id": "mPYijgdguD0B",
        "outputId": "c3b7280a-8699-4244-eae5-a7d62e5c0990"
      },
      "source": [
        "sql_tables['employee_details_data'].describe()"
      ],
      "execution_count": null,
      "outputs": [
        {
          "output_type": "execute_result",
          "data": {
            "text/html": [
              "<div>\n",
              "<style scoped>\n",
              "    .dataframe tbody tr th:only-of-type {\n",
              "        vertical-align: middle;\n",
              "    }\n",
              "\n",
              "    .dataframe tbody tr th {\n",
              "        vertical-align: top;\n",
              "    }\n",
              "\n",
              "    .dataframe thead th {\n",
              "        text-align: right;\n",
              "    }\n",
              "</style>\n",
              "<table border=\"1\" class=\"dataframe\">\n",
              "  <thead>\n",
              "    <tr style=\"text-align: right;\">\n",
              "      <th></th>\n",
              "      <th>employee_id</th>\n",
              "      <th>age</th>\n",
              "    </tr>\n",
              "  </thead>\n",
              "  <tbody>\n",
              "    <tr>\n",
              "      <th>count</th>\n",
              "      <td>14245.000000</td>\n",
              "      <td>14245.000000</td>\n",
              "    </tr>\n",
              "    <tr>\n",
              "      <th>mean</th>\n",
              "      <td>112123.050544</td>\n",
              "      <td>32.889926</td>\n",
              "    </tr>\n",
              "    <tr>\n",
              "      <th>std</th>\n",
              "      <td>8500.457343</td>\n",
              "      <td>9.970834</td>\n",
              "    </tr>\n",
              "    <tr>\n",
              "      <th>min</th>\n",
              "      <td>100101.000000</td>\n",
              "      <td>22.000000</td>\n",
              "    </tr>\n",
              "    <tr>\n",
              "      <th>25%</th>\n",
              "      <td>105775.000000</td>\n",
              "      <td>24.000000</td>\n",
              "    </tr>\n",
              "    <tr>\n",
              "      <th>50%</th>\n",
              "      <td>111298.000000</td>\n",
              "      <td>29.000000</td>\n",
              "    </tr>\n",
              "    <tr>\n",
              "      <th>75%</th>\n",
              "      <td>116658.000000</td>\n",
              "      <td>41.000000</td>\n",
              "    </tr>\n",
              "    <tr>\n",
              "      <th>max</th>\n",
              "      <td>148988.000000</td>\n",
              "      <td>57.000000</td>\n",
              "    </tr>\n",
              "  </tbody>\n",
              "</table>\n",
              "</div>"
            ],
            "text/plain": [
              "         employee_id           age\n",
              "count   14245.000000  14245.000000\n",
              "mean   112123.050544     32.889926\n",
              "std      8500.457343      9.970834\n",
              "min    100101.000000     22.000000\n",
              "25%    105775.000000     24.000000\n",
              "50%    111298.000000     29.000000\n",
              "75%    116658.000000     41.000000\n",
              "max    148988.000000     57.000000"
            ]
          },
          "metadata": {
            "tags": []
          },
          "execution_count": 16
        }
      ]
    },
    {
      "cell_type": "markdown",
      "metadata": {
        "id": "SCGTyXu_U-qH"
      },
      "source": [
        "<a id=section404></a>\n",
        "## 4.4 Data Description\n",
        "1. satisfaction_level -> how much a employee is satisfied\n",
        "2. last_evaluation -> last year evaluation of employee\n",
        "3. number_project -> projects he worked on\n",
        "4. average_monthly_hours -> spend by employee\n",
        "5. tenure-> years spend in company\n",
        "6. filed_complaint-> any filed_complaint for any employee\n",
        "7. promotion last 3 years-> did happen?\n",
        "8. department -> which department employee working in\n",
        "9. salary -> divided into three parts low, medium, high\n",
        "10. marital_status -> whether the employee married or not\n",
        "11. gender -> gender of the employee\n",
        "12. employee_id -> id of an employee\n",
        "13. age-> age of the employee\n",
        "14. dept_name-> name of department\n",
        "15. dept head\n",
        "16. left -> Whether employee left or not (Target variable)"
      ]
    },
    {
      "cell_type": "markdown",
      "metadata": {
        "id": "Aud_lsU8uD0B"
      },
      "source": [
        "<a id=section5></a>\n",
        "# 5. Examining the Data"
      ]
    },
    {
      "cell_type": "code",
      "metadata": {
        "colab": {
          "base_uri": "https://localhost:8080/"
        },
        "id": "Pg7wof-4uD0B",
        "outputId": "9680639f-1790-4271-ceee-90821a86813d"
      },
      "source": [
        "sql_tables['employee_data'].employee_id.nunique()"
      ],
      "execution_count": null,
      "outputs": [
        {
          "output_type": "execute_result",
          "data": {
            "text/plain": [
              "14117"
            ]
          },
          "metadata": {
            "tags": []
          },
          "execution_count": 17
        }
      ]
    },
    {
      "cell_type": "markdown",
      "metadata": {
        "id": "MVodDQ5SuD0B"
      },
      "source": [
        "**Observations**: When there are 14150 records in employee_data, only 14117 records are have unique id. There are duplicate records in the table, which needs examining."
      ]
    },
    {
      "cell_type": "code",
      "metadata": {
        "colab": {
          "base_uri": "https://localhost:8080/"
        },
        "id": "6TqMP2hUuD0B",
        "outputId": "9287ca3a-8efd-4a71-a695-507b07a66ab3"
      },
      "source": [
        "sql_tables['employee_data'].employee_id.duplicated().sum()"
      ],
      "execution_count": null,
      "outputs": [
        {
          "output_type": "execute_result",
          "data": {
            "text/plain": [
              "33"
            ]
          },
          "metadata": {
            "tags": []
          },
          "execution_count": 18
        }
      ]
    },
    {
      "cell_type": "markdown",
      "metadata": {
        "id": "9LiFcluhuD0B"
      },
      "source": [
        "There are 33 duplicate records in the employee_data"
      ]
    },
    {
      "cell_type": "code",
      "metadata": {
        "colab": {
          "base_uri": "https://localhost:8080/",
          "height": 392
        },
        "id": "KLCz9eAguD0B",
        "outputId": "21c7ab08-0f6a-4dbb-a897-c9aa60c258c5"
      },
      "source": [
        "sql_tables['employee_data'][sql_tables['employee_data'].employee_id.duplicated(keep=False)]"
      ],
      "execution_count": null,
      "outputs": [
        {
          "output_type": "execute_result",
          "data": {
            "text/html": [
              "<div>\n",
              "<style scoped>\n",
              "    .dataframe tbody tr th:only-of-type {\n",
              "        vertical-align: middle;\n",
              "    }\n",
              "\n",
              "    .dataframe tbody tr th {\n",
              "        vertical-align: top;\n",
              "    }\n",
              "\n",
              "    .dataframe thead th {\n",
              "        text-align: right;\n",
              "    }\n",
              "</style>\n",
              "<table border=\"1\" class=\"dataframe\">\n",
              "  <thead>\n",
              "    <tr style=\"text-align: right;\">\n",
              "      <th></th>\n",
              "      <th>avg_monthly_hrs</th>\n",
              "      <th>department</th>\n",
              "      <th>filed_complaint</th>\n",
              "      <th>last_evaluation</th>\n",
              "      <th>n_projects</th>\n",
              "      <th>recently_promoted</th>\n",
              "      <th>salary</th>\n",
              "      <th>satisfaction</th>\n",
              "      <th>status</th>\n",
              "      <th>tenure</th>\n",
              "      <th>employee_id</th>\n",
              "    </tr>\n",
              "  </thead>\n",
              "  <tbody>\n",
              "    <tr>\n",
              "      <th>34</th>\n",
              "      <td>284.00</td>\n",
              "      <td>D00-SS</td>\n",
              "      <td>None</td>\n",
              "      <td>0.852702</td>\n",
              "      <td>6</td>\n",
              "      <td>NaN</td>\n",
              "      <td>low</td>\n",
              "      <td>0.069168</td>\n",
              "      <td>Left</td>\n",
              "      <td>4.00</td>\n",
              "      <td>0</td>\n",
              "    </tr>\n",
              "    <tr>\n",
              "      <th>304</th>\n",
              "      <td>264.00</td>\n",
              "      <td>D00-ENG</td>\n",
              "      <td>None</td>\n",
              "      <td>0.774554</td>\n",
              "      <td>6</td>\n",
              "      <td>NaN</td>\n",
              "      <td>low</td>\n",
              "      <td>0.110974</td>\n",
              "      <td>Left</td>\n",
              "      <td>4.00</td>\n",
              "      <td>0</td>\n",
              "    </tr>\n",
              "    <tr>\n",
              "      <th>374</th>\n",
              "      <td>307.00</td>\n",
              "      <td>D00-IT</td>\n",
              "      <td>None</td>\n",
              "      <td>0.905708</td>\n",
              "      <td>7</td>\n",
              "      <td>NaN</td>\n",
              "      <td>low</td>\n",
              "      <td>0.125275</td>\n",
              "      <td>Left</td>\n",
              "      <td>4.00</td>\n",
              "      <td>111323</td>\n",
              "    </tr>\n",
              "    <tr>\n",
              "      <th>1234</th>\n",
              "      <td>129.00</td>\n",
              "      <td>D00-SP</td>\n",
              "      <td>None</td>\n",
              "      <td>0.402660</td>\n",
              "      <td>2</td>\n",
              "      <td>NaN</td>\n",
              "      <td>medium</td>\n",
              "      <td>0.437359</td>\n",
              "      <td>Left</td>\n",
              "      <td>3.00</td>\n",
              "      <td>0</td>\n",
              "    </tr>\n",
              "    <tr>\n",
              "      <th>1438</th>\n",
              "      <td>282.00</td>\n",
              "      <td>D00-SS</td>\n",
              "      <td>None</td>\n",
              "      <td>0.875427</td>\n",
              "      <td>6</td>\n",
              "      <td>NaN</td>\n",
              "      <td>low</td>\n",
              "      <td>0.065908</td>\n",
              "      <td>Left</td>\n",
              "      <td>4.00</td>\n",
              "      <td>116247</td>\n",
              "    </tr>\n",
              "    <tr>\n",
              "      <th>...</th>\n",
              "      <td>...</td>\n",
              "      <td>...</td>\n",
              "      <td>...</td>\n",
              "      <td>...</td>\n",
              "      <td>...</td>\n",
              "      <td>...</td>\n",
              "      <td>...</td>\n",
              "      <td>...</td>\n",
              "      <td>...</td>\n",
              "      <td>...</td>\n",
              "      <td>...</td>\n",
              "    </tr>\n",
              "    <tr>\n",
              "      <th>14145</th>\n",
              "      <td>245.00</td>\n",
              "      <td>D00-SS</td>\n",
              "      <td>None</td>\n",
              "      <td>0.850785</td>\n",
              "      <td>6</td>\n",
              "      <td>NaN</td>\n",
              "      <td>medium</td>\n",
              "      <td>0.225084</td>\n",
              "      <td>Employed</td>\n",
              "      <td>5.00</td>\n",
              "      <td>101809</td>\n",
              "    </tr>\n",
              "    <tr>\n",
              "      <th>14146</th>\n",
              "      <td>192.00</td>\n",
              "      <td>D00-SS</td>\n",
              "      <td>None</td>\n",
              "      <td>0.951901</td>\n",
              "      <td>3</td>\n",
              "      <td>NaN</td>\n",
              "      <td>medium</td>\n",
              "      <td>0.539834</td>\n",
              "      <td>Employed</td>\n",
              "      <td>3.00</td>\n",
              "      <td>116153</td>\n",
              "    </tr>\n",
              "    <tr>\n",
              "      <th>14147</th>\n",
              "      <td>175.00</td>\n",
              "      <td>D00-MN</td>\n",
              "      <td>None</td>\n",
              "      <td>0.854538</td>\n",
              "      <td>4</td>\n",
              "      <td>NaN</td>\n",
              "      <td>medium</td>\n",
              "      <td>0.934465</td>\n",
              "      <td>Employed</td>\n",
              "      <td>3.00</td>\n",
              "      <td>119780</td>\n",
              "    </tr>\n",
              "    <tr>\n",
              "      <th>14148</th>\n",
              "      <td>268.00</td>\n",
              "      <td>D00-MT</td>\n",
              "      <td>None</td>\n",
              "      <td>0.900887</td>\n",
              "      <td>5</td>\n",
              "      <td>NaN</td>\n",
              "      <td>medium</td>\n",
              "      <td>0.906613</td>\n",
              "      <td>Left</td>\n",
              "      <td>5.00</td>\n",
              "      <td>115325</td>\n",
              "    </tr>\n",
              "    <tr>\n",
              "      <th>14149</th>\n",
              "      <td>268.00</td>\n",
              "      <td>D00-IT</td>\n",
              "      <td>1.00</td>\n",
              "      <td>0.897098</td>\n",
              "      <td>2</td>\n",
              "      <td>NaN</td>\n",
              "      <td>low</td>\n",
              "      <td>0.459371</td>\n",
              "      <td>Employed</td>\n",
              "      <td>4.00</td>\n",
              "      <td>112312</td>\n",
              "    </tr>\n",
              "  </tbody>\n",
              "</table>\n",
              "<p>63 rows × 11 columns</p>\n",
              "</div>"
            ],
            "text/plain": [
              "      avg_monthly_hrs department filed_complaint  ...    status  tenure  employee_id\n",
              "34             284.00     D00-SS            None  ...      Left    4.00            0\n",
              "304            264.00    D00-ENG            None  ...      Left    4.00            0\n",
              "374            307.00     D00-IT            None  ...      Left    4.00       111323\n",
              "1234           129.00     D00-SP            None  ...      Left    3.00            0\n",
              "1438           282.00     D00-SS            None  ...      Left    4.00       116247\n",
              "...               ...        ...             ...  ...       ...     ...          ...\n",
              "14145          245.00     D00-SS            None  ...  Employed    5.00       101809\n",
              "14146          192.00     D00-SS            None  ...  Employed    3.00       116153\n",
              "14147          175.00     D00-MN            None  ...  Employed    3.00       119780\n",
              "14148          268.00     D00-MT            None  ...      Left    5.00       115325\n",
              "14149          268.00     D00-IT            1.00  ...  Employed    4.00       112312\n",
              "\n",
              "[63 rows x 11 columns]"
            ]
          },
          "metadata": {
            "tags": []
          },
          "execution_count": 19
        }
      ]
    },
    {
      "cell_type": "markdown",
      "metadata": {
        "id": "Civ54_1huD0C"
      },
      "source": [
        "**Note** : There are 33 repeated employee ids. Also, we noted that there are 4 employee_ids with value 0. Duplicate records needs to be dropped and employee_ids with value 0 has to be deleted."
      ]
    },
    {
      "cell_type": "code",
      "metadata": {
        "colab": {
          "base_uri": "https://localhost:8080/"
        },
        "id": "gLBULAXGuD0C",
        "outputId": "e61b58f0-eeaf-47b2-83a4-05d3d1a18e87"
      },
      "source": [
        "sql_tables['employee_data'].nunique()"
      ],
      "execution_count": null,
      "outputs": [
        {
          "output_type": "execute_result",
          "data": {
            "text/plain": [
              "avg_monthly_hrs        249\n",
              "department              12\n",
              "filed_complaint          1\n",
              "last_evaluation      12188\n",
              "n_projects               7\n",
              "recently_promoted        1\n",
              "salary                   3\n",
              "satisfaction         13497\n",
              "status                   2\n",
              "tenure                   8\n",
              "employee_id          14117\n",
              "dtype: int64"
            ]
          },
          "metadata": {
            "tags": []
          },
          "execution_count": 20
        }
      ]
    },
    {
      "cell_type": "code",
      "metadata": {
        "colab": {
          "base_uri": "https://localhost:8080/"
        },
        "id": "-ttzfj9guD0C",
        "outputId": "5497a6bc-91eb-47f8-b583-0713f795169f"
      },
      "source": [
        "sql_tables['employee_data'].department.unique()"
      ],
      "execution_count": null,
      "outputs": [
        {
          "output_type": "execute_result",
          "data": {
            "text/plain": [
              "array([None, 'D00-SS', 'D00-SP', 'D00-MT', 'D00-PD', 'D00-IT', 'D00-AD',\n",
              "       'D00-MN', 'D00-ENG', 'D00-PR', 'D00-TP', 'D00-FN', '-IT'],\n",
              "      dtype=object)"
            ]
          },
          "metadata": {
            "tags": []
          },
          "execution_count": 21
        }
      ]
    },
    {
      "cell_type": "markdown",
      "metadata": {
        "id": "YL_F0cImuD0C"
      },
      "source": [
        "**Observations**: There are 12 unique departments in employee_data where as in department_data there are only 11 departments. emplyee_data has an additional department: '-IT'. Looks like this is an error while entering the data. The department should have been 'D00-IT' instead of '-IT'."
      ]
    },
    {
      "cell_type": "code",
      "metadata": {
        "colab": {
          "base_uri": "https://localhost:8080/",
          "height": 190
        },
        "id": "m7tdy5JeuD0C",
        "outputId": "dd71fc44-b644-459a-9f94-140a678a1033"
      },
      "source": [
        "sql_tables['employee_data'][sql_tables['employee_data']['employee_id'] == 0]"
      ],
      "execution_count": null,
      "outputs": [
        {
          "output_type": "execute_result",
          "data": {
            "text/html": [
              "<div>\n",
              "<style scoped>\n",
              "    .dataframe tbody tr th:only-of-type {\n",
              "        vertical-align: middle;\n",
              "    }\n",
              "\n",
              "    .dataframe tbody tr th {\n",
              "        vertical-align: top;\n",
              "    }\n",
              "\n",
              "    .dataframe thead th {\n",
              "        text-align: right;\n",
              "    }\n",
              "</style>\n",
              "<table border=\"1\" class=\"dataframe\">\n",
              "  <thead>\n",
              "    <tr style=\"text-align: right;\">\n",
              "      <th></th>\n",
              "      <th>avg_monthly_hrs</th>\n",
              "      <th>department</th>\n",
              "      <th>filed_complaint</th>\n",
              "      <th>last_evaluation</th>\n",
              "      <th>n_projects</th>\n",
              "      <th>recently_promoted</th>\n",
              "      <th>salary</th>\n",
              "      <th>satisfaction</th>\n",
              "      <th>status</th>\n",
              "      <th>tenure</th>\n",
              "      <th>employee_id</th>\n",
              "    </tr>\n",
              "  </thead>\n",
              "  <tbody>\n",
              "    <tr>\n",
              "      <th>34</th>\n",
              "      <td>284.00</td>\n",
              "      <td>D00-SS</td>\n",
              "      <td>None</td>\n",
              "      <td>0.852702</td>\n",
              "      <td>6</td>\n",
              "      <td>NaN</td>\n",
              "      <td>low</td>\n",
              "      <td>0.069168</td>\n",
              "      <td>Left</td>\n",
              "      <td>4.00</td>\n",
              "      <td>0</td>\n",
              "    </tr>\n",
              "    <tr>\n",
              "      <th>304</th>\n",
              "      <td>264.00</td>\n",
              "      <td>D00-ENG</td>\n",
              "      <td>None</td>\n",
              "      <td>0.774554</td>\n",
              "      <td>6</td>\n",
              "      <td>NaN</td>\n",
              "      <td>low</td>\n",
              "      <td>0.110974</td>\n",
              "      <td>Left</td>\n",
              "      <td>4.00</td>\n",
              "      <td>0</td>\n",
              "    </tr>\n",
              "    <tr>\n",
              "      <th>1234</th>\n",
              "      <td>129.00</td>\n",
              "      <td>D00-SP</td>\n",
              "      <td>None</td>\n",
              "      <td>0.402660</td>\n",
              "      <td>2</td>\n",
              "      <td>NaN</td>\n",
              "      <td>medium</td>\n",
              "      <td>0.437359</td>\n",
              "      <td>Left</td>\n",
              "      <td>3.00</td>\n",
              "      <td>0</td>\n",
              "    </tr>\n",
              "    <tr>\n",
              "      <th>11304</th>\n",
              "      <td>167.00</td>\n",
              "      <td>None</td>\n",
              "      <td>None</td>\n",
              "      <td>0.880053</td>\n",
              "      <td>5</td>\n",
              "      <td>NaN</td>\n",
              "      <td>low</td>\n",
              "      <td>0.682140</td>\n",
              "      <td>Employed</td>\n",
              "      <td>3.00</td>\n",
              "      <td>0</td>\n",
              "    </tr>\n",
              "    <tr>\n",
              "      <th>12304</th>\n",
              "      <td>259.00</td>\n",
              "      <td>D00-ENG</td>\n",
              "      <td>None</td>\n",
              "      <td>0.505883</td>\n",
              "      <td>5</td>\n",
              "      <td>NaN</td>\n",
              "      <td>low</td>\n",
              "      <td>0.631046</td>\n",
              "      <td>Employed</td>\n",
              "      <td>4.00</td>\n",
              "      <td>0</td>\n",
              "    </tr>\n",
              "  </tbody>\n",
              "</table>\n",
              "</div>"
            ],
            "text/plain": [
              "      avg_monthly_hrs department filed_complaint  ...    status  tenure  employee_id\n",
              "34             284.00     D00-SS            None  ...      Left    4.00            0\n",
              "304            264.00    D00-ENG            None  ...      Left    4.00            0\n",
              "1234           129.00     D00-SP            None  ...      Left    3.00            0\n",
              "11304          167.00       None            None  ...  Employed    3.00            0\n",
              "12304          259.00    D00-ENG            None  ...  Employed    4.00            0\n",
              "\n",
              "[5 rows x 11 columns]"
            ]
          },
          "metadata": {
            "tags": []
          },
          "execution_count": 22
        }
      ]
    },
    {
      "cell_type": "code",
      "metadata": {
        "colab": {
          "base_uri": "https://localhost:8080/",
          "height": 46
        },
        "id": "ft1v0MXfuD0C",
        "outputId": "99be4960-471a-4d45-db05-87a9a7ed6a9b"
      },
      "source": [
        "sql_tables['employee_details_data'][sql_tables['employee_details_data']['employee_id'] == 0]"
      ],
      "execution_count": null,
      "outputs": [
        {
          "output_type": "execute_result",
          "data": {
            "text/html": [
              "<div>\n",
              "<style scoped>\n",
              "    .dataframe tbody tr th:only-of-type {\n",
              "        vertical-align: middle;\n",
              "    }\n",
              "\n",
              "    .dataframe tbody tr th {\n",
              "        vertical-align: top;\n",
              "    }\n",
              "\n",
              "    .dataframe thead th {\n",
              "        text-align: right;\n",
              "    }\n",
              "</style>\n",
              "<table border=\"1\" class=\"dataframe\">\n",
              "  <thead>\n",
              "    <tr style=\"text-align: right;\">\n",
              "      <th></th>\n",
              "      <th>employee_id</th>\n",
              "      <th>age</th>\n",
              "      <th>gender</th>\n",
              "      <th>marital_status</th>\n",
              "    </tr>\n",
              "  </thead>\n",
              "  <tbody>\n",
              "  </tbody>\n",
              "</table>\n",
              "</div>"
            ],
            "text/plain": [
              "Empty DataFrame\n",
              "Columns: [employee_id, age, gender, marital_status]\n",
              "Index: []"
            ]
          },
          "metadata": {
            "tags": []
          },
          "execution_count": 23
        }
      ]
    },
    {
      "cell_type": "markdown",
      "metadata": {
        "id": "aDQtU-NcuD0C"
      },
      "source": [
        "**Observations**: There are 5 records with employee_id=0 in employee_data table and all of them have different values in other columns. Where as there is no record in employee_details_data table with employee id, 0. These 5 records needs to be handled while cleaning the data. "
      ]
    },
    {
      "cell_type": "code",
      "metadata": {
        "colab": {
          "base_uri": "https://localhost:8080/"
        },
        "id": "lAyp9hKvuD0C",
        "outputId": "d6a2c61b-ac00-49e0-9c8c-1f77059e832b"
      },
      "source": [
        "sql_tables['employee_details_data'].employee_id.nunique()"
      ],
      "execution_count": null,
      "outputs": [
        {
          "output_type": "execute_result",
          "data": {
            "text/plain": [
              "14245"
            ]
          },
          "metadata": {
            "tags": []
          },
          "execution_count": 24
        }
      ]
    },
    {
      "cell_type": "markdown",
      "metadata": {
        "id": "i4m8X819uD0C"
      },
      "source": [
        "**Observations** : There are no duplicate records in employee_details_data."
      ]
    },
    {
      "cell_type": "markdown",
      "metadata": {
        "id": "3yOwT-EKuD0C"
      },
      "source": [
        "<a id=section501></a>\n",
        "## 5.1 Examining unseen test_data"
      ]
    },
    {
      "cell_type": "code",
      "metadata": {
        "colab": {
          "base_uri": "https://localhost:8080/",
          "height": 190
        },
        "id": "8PWvhVqNuD0C",
        "outputId": "f23a6aa7-4111-43bb-c156-2ce1febf935a"
      },
      "source": [
        "test_data.head()"
      ],
      "execution_count": null,
      "outputs": [
        {
          "output_type": "execute_result",
          "data": {
            "text/html": [
              "<div>\n",
              "<style scoped>\n",
              "    .dataframe tbody tr th:only-of-type {\n",
              "        vertical-align: middle;\n",
              "    }\n",
              "\n",
              "    .dataframe tbody tr th {\n",
              "        vertical-align: top;\n",
              "    }\n",
              "\n",
              "    .dataframe thead th {\n",
              "        text-align: right;\n",
              "    }\n",
              "</style>\n",
              "<table border=\"1\" class=\"dataframe\">\n",
              "  <thead>\n",
              "    <tr style=\"text-align: right;\">\n",
              "      <th></th>\n",
              "      <th>avg_monthly_hrs</th>\n",
              "      <th>department</th>\n",
              "      <th>filed_complaint</th>\n",
              "      <th>last_evaluation</th>\n",
              "      <th>n_projects</th>\n",
              "      <th>recently_promoted</th>\n",
              "      <th>salary</th>\n",
              "      <th>satisfaction</th>\n",
              "      <th>tenure</th>\n",
              "      <th>employee_id</th>\n",
              "    </tr>\n",
              "  </thead>\n",
              "  <tbody>\n",
              "    <tr>\n",
              "      <th>0</th>\n",
              "      <td>134</td>\n",
              "      <td>D00-IT</td>\n",
              "      <td>NaN</td>\n",
              "      <td>0.528841</td>\n",
              "      <td>2</td>\n",
              "      <td>NaN</td>\n",
              "      <td>low</td>\n",
              "      <td>0.400464</td>\n",
              "      <td>3.0</td>\n",
              "      <td>119045</td>\n",
              "    </tr>\n",
              "    <tr>\n",
              "      <th>1</th>\n",
              "      <td>221</td>\n",
              "      <td>D00-PD</td>\n",
              "      <td>NaN</td>\n",
              "      <td>0.784561</td>\n",
              "      <td>2</td>\n",
              "      <td>NaN</td>\n",
              "      <td>low</td>\n",
              "      <td>0.759513</td>\n",
              "      <td>3.0</td>\n",
              "      <td>112223</td>\n",
              "    </tr>\n",
              "    <tr>\n",
              "      <th>2</th>\n",
              "      <td>156</td>\n",
              "      <td>D00-SS</td>\n",
              "      <td>NaN</td>\n",
              "      <td>0.545183</td>\n",
              "      <td>2</td>\n",
              "      <td>NaN</td>\n",
              "      <td>medium</td>\n",
              "      <td>0.336457</td>\n",
              "      <td>3.0</td>\n",
              "      <td>103924</td>\n",
              "    </tr>\n",
              "    <tr>\n",
              "      <th>3</th>\n",
              "      <td>133</td>\n",
              "      <td>D00-PR</td>\n",
              "      <td>NaN</td>\n",
              "      <td>NaN</td>\n",
              "      <td>4</td>\n",
              "      <td>NaN</td>\n",
              "      <td>medium</td>\n",
              "      <td>0.832039</td>\n",
              "      <td>2.0</td>\n",
              "      <td>105922</td>\n",
              "    </tr>\n",
              "    <tr>\n",
              "      <th>4</th>\n",
              "      <td>135</td>\n",
              "      <td>D00-SS</td>\n",
              "      <td>NaN</td>\n",
              "      <td>0.454637</td>\n",
              "      <td>2</td>\n",
              "      <td>NaN</td>\n",
              "      <td>low</td>\n",
              "      <td>0.320723</td>\n",
              "      <td>5.0</td>\n",
              "      <td>103297</td>\n",
              "    </tr>\n",
              "  </tbody>\n",
              "</table>\n",
              "</div>"
            ],
            "text/plain": [
              "   avg_monthly_hrs department  ...  tenure  employee_id\n",
              "0              134     D00-IT  ...     3.0       119045\n",
              "1              221     D00-PD  ...     3.0       112223\n",
              "2              156     D00-SS  ...     3.0       103924\n",
              "3              133     D00-PR  ...     2.0       105922\n",
              "4              135     D00-SS  ...     5.0       103297\n",
              "\n",
              "[5 rows x 10 columns]"
            ]
          },
          "metadata": {
            "tags": []
          },
          "execution_count": 25
        }
      ]
    },
    {
      "cell_type": "code",
      "metadata": {
        "colab": {
          "base_uri": "https://localhost:8080/"
        },
        "id": "9rDb8TV8uD0C",
        "outputId": "5ff3dee4-bcb2-408f-a9c6-c895ea6f027c"
      },
      "source": [
        "test_data.info()"
      ],
      "execution_count": null,
      "outputs": [
        {
          "output_type": "stream",
          "text": [
            "<class 'pandas.core.frame.DataFrame'>\n",
            "RangeIndex: 100 entries, 0 to 99\n",
            "Data columns (total 10 columns):\n",
            " #   Column             Non-Null Count  Dtype  \n",
            "---  ------             --------------  -----  \n",
            " 0   avg_monthly_hrs    100 non-null    int64  \n",
            " 1   department         98 non-null     object \n",
            " 2   filed_complaint    15 non-null     float64\n",
            " 3   last_evaluation    83 non-null     float64\n",
            " 4   n_projects         100 non-null    int64  \n",
            " 5   recently_promoted  3 non-null      float64\n",
            " 6   salary             100 non-null    object \n",
            " 7   satisfaction       97 non-null     float64\n",
            " 8   tenure             97 non-null     float64\n",
            " 9   employee_id        100 non-null    int64  \n",
            "dtypes: float64(5), int64(3), object(2)\n",
            "memory usage: 7.9+ KB\n"
          ],
          "name": "stdout"
        }
      ]
    },
    {
      "cell_type": "markdown",
      "metadata": {
        "id": "b-69evoduD0C"
      },
      "source": [
        "<a id=section502></a>\n",
        "# 5.2. Describing challenges present in the data"
      ]
    },
    {
      "cell_type": "markdown",
      "metadata": {
        "id": "Ep6EN1R0uD0C"
      },
      "source": [
        "\n",
        "\n",
        " 1. Data is present in 3 different tables namely employee_data, employee_details_data and deparment_data\n",
        " 2. There are total 63 duplicate records in employee_data table. \n",
        " 3. There are 5 records with employee_id 0\tin employee_data table but no record with employee_id=0 in employee_details_data table.\n",
        " 4. There are Null values in recently_promoted & filed_complaint columns.\n",
        " 5. employee_details_data has 14245 records where as employee_data has only 14117 unique ids.  \n",
        " 6. employee_data table is missing some employees data. employee_data table has missing data in the below columns:\n",
        "\ta. tenure (150 records)\n",
        "\tb. satisfaction(150 records)\n",
        "\tc. last_evaluation(1487 records)\n",
        "\td. department(707 records)\"\t\t\n",
        " 7. employee_data has 12 unique departments where as department_data table has only 11 departments. deparment value '-IT' is not present in department_data table. The correct department value should be department 'D00-IT'\n",
        " 8. in department_data table, department id is named 'dept_id', where as in employee_data table, it is named 'department'. This descripancy will have problem while merging the data\n",
        " 9. Issues in test_data also needs to be resolved and merged with employee_details_data and department_data before it can be used for the prediction. "
      ]
    },
    {
      "cell_type": "markdown",
      "metadata": {
        "id": "qhx429BeuD0C"
      },
      "source": [
        "<a id=section6></a>\n",
        "# 6. Resolving the challenges in the data"
      ]
    },
    {
      "cell_type": "markdown",
      "metadata": {
        "id": "EF4Ftb0luD0C"
      },
      "source": [
        "##### Dropping duplicate records from employee_data table:"
      ]
    },
    {
      "cell_type": "code",
      "metadata": {
        "id": "vbtquJbN9lsd"
      },
      "source": [
        "sql_tables['employee_data'] = sql_tables['employee_data'].drop_duplicates(subset=['employee_id'])"
      ],
      "execution_count": null,
      "outputs": []
    },
    {
      "cell_type": "markdown",
      "metadata": {
        "id": "kH9VKB4iuD0C"
      },
      "source": [
        "##### Dropping records from employee_data with employee_id=0:"
      ]
    },
    {
      "cell_type": "code",
      "metadata": {
        "id": "m-tylnbHgdCn"
      },
      "source": [
        "sql_tables['employee_data'] = sql_tables['employee_data'].drop(sql_tables['employee_data'][sql_tables['employee_data']['employee_id'] == 0].index)"
      ],
      "execution_count": null,
      "outputs": []
    },
    {
      "cell_type": "markdown",
      "metadata": {
        "id": "07nK7bGKuD0C"
      },
      "source": [
        "##### Replacing department column value '-IT' with 'D00-IT':"
      ]
    },
    {
      "cell_type": "code",
      "metadata": {
        "id": "1TpbKXDFA8NB"
      },
      "source": [
        "sql_tables['employee_data'] = sql_tables['employee_data'].replace({'-IT': 'D00-IT'}) # corrected version of record name of depart ment to IT\n",
        "test_data = test_data.replace({'-IT': 'D00-IT'}) "
      ],
      "execution_count": null,
      "outputs": []
    },
    {
      "cell_type": "markdown",
      "metadata": {
        "id": "-Q3Us4J0uD0C"
      },
      "source": [
        "##### Renaming column name from 'dept_id' to 'department' in department_data:"
      ]
    },
    {
      "cell_type": "code",
      "metadata": {
        "id": "cT_luLjnSrO9"
      },
      "source": [
        "sql_tables['department_data'] = sql_tables['department_data'].rename(columns={'dept_id':'department'} )"
      ],
      "execution_count": null,
      "outputs": []
    },
    {
      "cell_type": "markdown",
      "metadata": {
        "id": "ChtJuBivuD0C"
      },
      "source": [
        "##### Merging all the three data frames :"
      ]
    },
    {
      "cell_type": "code",
      "metadata": {
        "id": "YVrxdlmBQNVs"
      },
      "source": [
        "train_dataset = pd.merge(sql_tables['employee_details_data'], sql_tables['employee_data'], on='employee_id', how='right').merge(sql_tables['department_data'], on='department', how='left')\n",
        "test_data = pd.merge(sql_tables['employee_details_data'], test_data, on='employee_id', how='right').merge(sql_tables['department_data'], on='department', how='left')"
      ],
      "execution_count": null,
      "outputs": []
    },
    {
      "cell_type": "markdown",
      "metadata": {
        "id": "JVj-lb-DuD0C"
      },
      "source": [
        "**Note**: There are 3 dataframes which needs to be merged. First employee_details_data is merged with employee_data using right join on 'employee_id'. Then the resulting dataframe is merged with department_data using left join on 'department' column."
      ]
    },
    {
      "cell_type": "code",
      "metadata": {
        "colab": {
          "base_uri": "https://localhost:8080/",
          "height": 277
        },
        "id": "w9YLKYS-UztH",
        "outputId": "03b58fc8-63af-4d3b-a92b-528aa48cf89a"
      },
      "source": [
        "train_dataset.describe()"
      ],
      "execution_count": null,
      "outputs": [
        {
          "output_type": "execute_result",
          "data": {
            "text/html": [
              "<div>\n",
              "<style scoped>\n",
              "    .dataframe tbody tr th:only-of-type {\n",
              "        vertical-align: middle;\n",
              "    }\n",
              "\n",
              "    .dataframe tbody tr th {\n",
              "        vertical-align: top;\n",
              "    }\n",
              "\n",
              "    .dataframe thead th {\n",
              "        text-align: right;\n",
              "    }\n",
              "</style>\n",
              "<table border=\"1\" class=\"dataframe\">\n",
              "  <thead>\n",
              "    <tr style=\"text-align: right;\">\n",
              "      <th></th>\n",
              "      <th>employee_id</th>\n",
              "      <th>age</th>\n",
              "      <th>last_evaluation</th>\n",
              "      <th>n_projects</th>\n",
              "      <th>recently_promoted</th>\n",
              "      <th>satisfaction</th>\n",
              "    </tr>\n",
              "  </thead>\n",
              "  <tbody>\n",
              "    <tr>\n",
              "      <th>count</th>\n",
              "      <td>14116.000000</td>\n",
              "      <td>14116.000000</td>\n",
              "      <td>12629.000000</td>\n",
              "      <td>14116.000000</td>\n",
              "      <td>297.0</td>\n",
              "      <td>13966.000000</td>\n",
              "    </tr>\n",
              "    <tr>\n",
              "      <th>mean</th>\n",
              "      <td>112120.657764</td>\n",
              "      <td>32.896005</td>\n",
              "      <td>0.718322</td>\n",
              "      <td>3.777770</td>\n",
              "      <td>1.0</td>\n",
              "      <td>0.621322</td>\n",
              "    </tr>\n",
              "    <tr>\n",
              "      <th>std</th>\n",
              "      <td>8497.639403</td>\n",
              "      <td>9.975000</td>\n",
              "      <td>0.173069</td>\n",
              "      <td>1.249693</td>\n",
              "      <td>0.0</td>\n",
              "      <td>0.250460</td>\n",
              "    </tr>\n",
              "    <tr>\n",
              "      <th>min</th>\n",
              "      <td>100101.000000</td>\n",
              "      <td>22.000000</td>\n",
              "      <td>0.316175</td>\n",
              "      <td>1.000000</td>\n",
              "      <td>1.0</td>\n",
              "      <td>0.040058</td>\n",
              "    </tr>\n",
              "    <tr>\n",
              "      <th>25%</th>\n",
              "      <td>105773.500000</td>\n",
              "      <td>24.000000</td>\n",
              "      <td>0.563680</td>\n",
              "      <td>3.000000</td>\n",
              "      <td>1.0</td>\n",
              "      <td>0.450368</td>\n",
              "    </tr>\n",
              "    <tr>\n",
              "      <th>50%</th>\n",
              "      <td>111293.500000</td>\n",
              "      <td>29.000000</td>\n",
              "      <td>0.724428</td>\n",
              "      <td>4.000000</td>\n",
              "      <td>1.0</td>\n",
              "      <td>0.652548</td>\n",
              "    </tr>\n",
              "    <tr>\n",
              "      <th>75%</th>\n",
              "      <td>116655.250000</td>\n",
              "      <td>41.000000</td>\n",
              "      <td>0.871345</td>\n",
              "      <td>5.000000</td>\n",
              "      <td>1.0</td>\n",
              "      <td>0.824914</td>\n",
              "    </tr>\n",
              "    <tr>\n",
              "      <th>max</th>\n",
              "      <td>148988.000000</td>\n",
              "      <td>57.000000</td>\n",
              "      <td>1.000000</td>\n",
              "      <td>7.000000</td>\n",
              "      <td>1.0</td>\n",
              "      <td>1.000000</td>\n",
              "    </tr>\n",
              "  </tbody>\n",
              "</table>\n",
              "</div>"
            ],
            "text/plain": [
              "         employee_id           age  ...  recently_promoted  satisfaction\n",
              "count   14116.000000  14116.000000  ...              297.0  13966.000000\n",
              "mean   112120.657764     32.896005  ...                1.0      0.621322\n",
              "std      8497.639403      9.975000  ...                0.0      0.250460\n",
              "min    100101.000000     22.000000  ...                1.0      0.040058\n",
              "25%    105773.500000     24.000000  ...                1.0      0.450368\n",
              "50%    111293.500000     29.000000  ...                1.0      0.652548\n",
              "75%    116655.250000     41.000000  ...                1.0      0.824914\n",
              "max    148988.000000     57.000000  ...                1.0      1.000000\n",
              "\n",
              "[8 rows x 6 columns]"
            ]
          },
          "metadata": {
            "tags": []
          },
          "execution_count": 32
        }
      ]
    },
    {
      "cell_type": "markdown",
      "metadata": {
        "id": "fLQGm18SuD0C"
      },
      "source": [
        "**Note**: All columns of the merged data are normally distributed. No big skewness is found."
      ]
    },
    {
      "cell_type": "markdown",
      "metadata": {
        "id": "ZoyBdnokuD0D"
      },
      "source": [
        "##### Changing data type of columns:"
      ]
    },
    {
      "cell_type": "code",
      "metadata": {
        "colab": {
          "base_uri": "https://localhost:8080/"
        },
        "id": "-vaLDuVIWLW5",
        "outputId": "129c73b5-2de8-4df7-d12a-fb1524d87a2c"
      },
      "source": [
        "train_dataset.info()"
      ],
      "execution_count": null,
      "outputs": [
        {
          "output_type": "stream",
          "text": [
            "<class 'pandas.core.frame.DataFrame'>\n",
            "Int64Index: 14116 entries, 0 to 14115\n",
            "Data columns (total 16 columns):\n",
            " #   Column             Non-Null Count  Dtype  \n",
            "---  ------             --------------  -----  \n",
            " 0   employee_id        14116 non-null  int64  \n",
            " 1   age                14116 non-null  int64  \n",
            " 2   gender             14116 non-null  object \n",
            " 3   marital_status     14116 non-null  object \n",
            " 4   avg_monthly_hrs    14116 non-null  object \n",
            " 5   department         13410 non-null  object \n",
            " 6   filed_complaint    2041 non-null   object \n",
            " 7   last_evaluation    12629 non-null  float64\n",
            " 8   n_projects         14116 non-null  int64  \n",
            " 9   recently_promoted  297 non-null    float64\n",
            " 10  salary             14116 non-null  object \n",
            " 11  satisfaction       13966 non-null  float64\n",
            " 12  status             14116 non-null  object \n",
            " 13  tenure             13966 non-null  object \n",
            " 14  dept_name          13410 non-null  object \n",
            " 15  dept_head          13410 non-null  object \n",
            "dtypes: float64(3), int64(3), object(10)\n",
            "memory usage: 1.8+ MB\n"
          ],
          "name": "stdout"
        }
      ]
    },
    {
      "cell_type": "code",
      "metadata": {
        "colab": {
          "base_uri": "https://localhost:8080/"
        },
        "id": "mM4QHdkpQzLT",
        "outputId": "0416c55d-a1d3-437c-ed50-8431e3add537"
      },
      "source": [
        "test_data.info()"
      ],
      "execution_count": null,
      "outputs": [
        {
          "output_type": "stream",
          "text": [
            "<class 'pandas.core.frame.DataFrame'>\n",
            "Int64Index: 100 entries, 0 to 99\n",
            "Data columns (total 15 columns):\n",
            " #   Column             Non-Null Count  Dtype  \n",
            "---  ------             --------------  -----  \n",
            " 0   employee_id        100 non-null    int64  \n",
            " 1   age                100 non-null    int64  \n",
            " 2   gender             100 non-null    object \n",
            " 3   marital_status     100 non-null    object \n",
            " 4   avg_monthly_hrs    100 non-null    int64  \n",
            " 5   department         98 non-null     object \n",
            " 6   filed_complaint    15 non-null     float64\n",
            " 7   last_evaluation    83 non-null     float64\n",
            " 8   n_projects         100 non-null    int64  \n",
            " 9   recently_promoted  3 non-null      float64\n",
            " 10  salary             100 non-null    object \n",
            " 11  satisfaction       97 non-null     float64\n",
            " 12  tenure             97 non-null     float64\n",
            " 13  dept_name          98 non-null     object \n",
            " 14  dept_head          98 non-null     object \n",
            "dtypes: float64(5), int64(4), object(6)\n",
            "memory usage: 12.5+ KB\n"
          ],
          "name": "stdout"
        }
      ]
    },
    {
      "cell_type": "code",
      "metadata": {
        "colab": {
          "base_uri": "https://localhost:8080/"
        },
        "id": "Yk1JakUMWaIK",
        "outputId": "8cc4af77-6682-420a-a34b-e9969533850d"
      },
      "source": [
        "train_dataset.isnull().sum()"
      ],
      "execution_count": null,
      "outputs": [
        {
          "output_type": "execute_result",
          "data": {
            "text/plain": [
              "employee_id              0\n",
              "age                      0\n",
              "gender                   0\n",
              "marital_status           0\n",
              "avg_monthly_hrs          0\n",
              "department             706\n",
              "filed_complaint      12075\n",
              "last_evaluation       1487\n",
              "n_projects               0\n",
              "recently_promoted    13819\n",
              "salary                   0\n",
              "satisfaction           150\n",
              "status                   0\n",
              "tenure                 150\n",
              "dept_name              706\n",
              "dept_head              706\n",
              "dtype: int64"
            ]
          },
          "metadata": {
            "tags": []
          },
          "execution_count": 37
        }
      ]
    },
    {
      "cell_type": "markdown",
      "metadata": {
        "id": "Flsu_APZXB7x"
      },
      "source": [
        "### Insights \n",
        "- filed_complaint,  recently_promote have highest None values\n",
        "- last_evaluation have 3rd largest null values\n",
        "- satisfaction, tenure, dept_name and dept_head have low null values"
      ]
    },
    {
      "cell_type": "code",
      "metadata": {
        "colab": {
          "base_uri": "https://localhost:8080/"
        },
        "id": "2vf7DWseQ2Zz",
        "outputId": "2e809b13-d916-40c1-c0fd-e6d2a64ce33c"
      },
      "source": [
        "test_data.isnull().sum()"
      ],
      "execution_count": null,
      "outputs": [
        {
          "output_type": "execute_result",
          "data": {
            "text/plain": [
              "employee_id           0\n",
              "age                   0\n",
              "gender                0\n",
              "marital_status        0\n",
              "avg_monthly_hrs       0\n",
              "department            2\n",
              "filed_complaint      85\n",
              "last_evaluation      17\n",
              "n_projects            0\n",
              "recently_promoted    97\n",
              "salary                0\n",
              "satisfaction          3\n",
              "tenure                3\n",
              "dept_name             2\n",
              "dept_head             2\n",
              "dtype: int64"
            ]
          },
          "metadata": {
            "tags": []
          },
          "execution_count": 38
        }
      ]
    },
    {
      "cell_type": "code",
      "metadata": {
        "colab": {
          "base_uri": "https://localhost:8080/"
        },
        "id": "iO7fGTqaXWlt",
        "outputId": "1c41cd10-2397-4243-f9cf-0401bab45444"
      },
      "source": [
        "train_dataset.nunique()"
      ],
      "execution_count": null,
      "outputs": [
        {
          "output_type": "execute_result",
          "data": {
            "text/plain": [
              "employee_id          14116\n",
              "age                     36\n",
              "gender                   2\n",
              "marital_status           2\n",
              "avg_monthly_hrs        249\n",
              "department              11\n",
              "filed_complaint          1\n",
              "last_evaluation      12184\n",
              "n_projects               7\n",
              "recently_promoted        1\n",
              "salary                   3\n",
              "satisfaction         13492\n",
              "status                   2\n",
              "tenure                   8\n",
              "dept_name               11\n",
              "dept_head               11\n",
              "dtype: int64"
            ]
          },
          "metadata": {
            "tags": []
          },
          "execution_count": 39
        }
      ]
    },
    {
      "cell_type": "code",
      "metadata": {
        "colab": {
          "base_uri": "https://localhost:8080/",
          "height": 392
        },
        "id": "OWd9IdbBAiHq",
        "outputId": "41ee2330-24d2-42c9-e56d-dacd62270f25"
      },
      "source": [
        "train_dataset[train_dataset['dept_name'].isnull()]"
      ],
      "execution_count": null,
      "outputs": [
        {
          "output_type": "execute_result",
          "data": {
            "text/html": [
              "<div>\n",
              "<style scoped>\n",
              "    .dataframe tbody tr th:only-of-type {\n",
              "        vertical-align: middle;\n",
              "    }\n",
              "\n",
              "    .dataframe tbody tr th {\n",
              "        vertical-align: top;\n",
              "    }\n",
              "\n",
              "    .dataframe thead th {\n",
              "        text-align: right;\n",
              "    }\n",
              "</style>\n",
              "<table border=\"1\" class=\"dataframe\">\n",
              "  <thead>\n",
              "    <tr style=\"text-align: right;\">\n",
              "      <th></th>\n",
              "      <th>employee_id</th>\n",
              "      <th>age</th>\n",
              "      <th>gender</th>\n",
              "      <th>marital_status</th>\n",
              "      <th>avg_monthly_hrs</th>\n",
              "      <th>department</th>\n",
              "      <th>filed_complaint</th>\n",
              "      <th>last_evaluation</th>\n",
              "      <th>n_projects</th>\n",
              "      <th>recently_promoted</th>\n",
              "      <th>salary</th>\n",
              "      <th>satisfaction</th>\n",
              "      <th>status</th>\n",
              "      <th>tenure</th>\n",
              "      <th>dept_name</th>\n",
              "      <th>dept_head</th>\n",
              "    </tr>\n",
              "  </thead>\n",
              "  <tbody>\n",
              "    <tr>\n",
              "      <th>0</th>\n",
              "      <td>124467</td>\n",
              "      <td>42</td>\n",
              "      <td>Female</td>\n",
              "      <td>Married</td>\n",
              "      <td>246.00</td>\n",
              "      <td>None</td>\n",
              "      <td>None</td>\n",
              "      <td>0.866838</td>\n",
              "      <td>6</td>\n",
              "      <td>NaN</td>\n",
              "      <td>medium</td>\n",
              "      <td>0.134415</td>\n",
              "      <td>Left</td>\n",
              "      <td>4.00</td>\n",
              "      <td>NaN</td>\n",
              "      <td>NaN</td>\n",
              "    </tr>\n",
              "    <tr>\n",
              "      <th>1</th>\n",
              "      <td>112210</td>\n",
              "      <td>23</td>\n",
              "      <td>Female</td>\n",
              "      <td>Unmarried</td>\n",
              "      <td>134.00</td>\n",
              "      <td>None</td>\n",
              "      <td>None</td>\n",
              "      <td>0.555718</td>\n",
              "      <td>2</td>\n",
              "      <td>NaN</td>\n",
              "      <td>low</td>\n",
              "      <td>0.511041</td>\n",
              "      <td>Left</td>\n",
              "      <td>3.00</td>\n",
              "      <td>NaN</td>\n",
              "      <td>NaN</td>\n",
              "    </tr>\n",
              "    <tr>\n",
              "      <th>25</th>\n",
              "      <td>127792</td>\n",
              "      <td>23</td>\n",
              "      <td>Female</td>\n",
              "      <td>Unmarried</td>\n",
              "      <td>155.00</td>\n",
              "      <td>None</td>\n",
              "      <td>None</td>\n",
              "      <td>0.464598</td>\n",
              "      <td>2</td>\n",
              "      <td>NaN</td>\n",
              "      <td>medium</td>\n",
              "      <td>0.414451</td>\n",
              "      <td>Left</td>\n",
              "      <td>3.00</td>\n",
              "      <td>NaN</td>\n",
              "      <td>NaN</td>\n",
              "    </tr>\n",
              "    <tr>\n",
              "      <th>28</th>\n",
              "      <td>128509</td>\n",
              "      <td>25</td>\n",
              "      <td>Female</td>\n",
              "      <td>Unmarried</td>\n",
              "      <td>156.00</td>\n",
              "      <td>None</td>\n",
              "      <td>None</td>\n",
              "      <td>NaN</td>\n",
              "      <td>2</td>\n",
              "      <td>NaN</td>\n",
              "      <td>medium</td>\n",
              "      <td>0.465747</td>\n",
              "      <td>Left</td>\n",
              "      <td>3.00</td>\n",
              "      <td>NaN</td>\n",
              "      <td>NaN</td>\n",
              "    </tr>\n",
              "    <tr>\n",
              "      <th>39</th>\n",
              "      <td>125077</td>\n",
              "      <td>22</td>\n",
              "      <td>Female</td>\n",
              "      <td>Unmarried</td>\n",
              "      <td>233.00</td>\n",
              "      <td>None</td>\n",
              "      <td>None</td>\n",
              "      <td>0.965382</td>\n",
              "      <td>5</td>\n",
              "      <td>NaN</td>\n",
              "      <td>medium</td>\n",
              "      <td>0.962314</td>\n",
              "      <td>Left</td>\n",
              "      <td>5.00</td>\n",
              "      <td>NaN</td>\n",
              "      <td>NaN</td>\n",
              "    </tr>\n",
              "    <tr>\n",
              "      <th>...</th>\n",
              "      <td>...</td>\n",
              "      <td>...</td>\n",
              "      <td>...</td>\n",
              "      <td>...</td>\n",
              "      <td>...</td>\n",
              "      <td>...</td>\n",
              "      <td>...</td>\n",
              "      <td>...</td>\n",
              "      <td>...</td>\n",
              "      <td>...</td>\n",
              "      <td>...</td>\n",
              "      <td>...</td>\n",
              "      <td>...</td>\n",
              "      <td>...</td>\n",
              "      <td>...</td>\n",
              "      <td>...</td>\n",
              "    </tr>\n",
              "    <tr>\n",
              "      <th>14018</th>\n",
              "      <td>109640</td>\n",
              "      <td>23</td>\n",
              "      <td>Male</td>\n",
              "      <td>Unmarried</td>\n",
              "      <td>187.00</td>\n",
              "      <td>None</td>\n",
              "      <td>None</td>\n",
              "      <td>0.665927</td>\n",
              "      <td>2</td>\n",
              "      <td>NaN</td>\n",
              "      <td>low</td>\n",
              "      <td>0.414367</td>\n",
              "      <td>Employed</td>\n",
              "      <td>3.00</td>\n",
              "      <td>NaN</td>\n",
              "      <td>NaN</td>\n",
              "    </tr>\n",
              "    <tr>\n",
              "      <th>14031</th>\n",
              "      <td>119098</td>\n",
              "      <td>24</td>\n",
              "      <td>Female</td>\n",
              "      <td>Unmarried</td>\n",
              "      <td>250.00</td>\n",
              "      <td>None</td>\n",
              "      <td>None</td>\n",
              "      <td>0.995384</td>\n",
              "      <td>3</td>\n",
              "      <td>NaN</td>\n",
              "      <td>medium</td>\n",
              "      <td>0.928952</td>\n",
              "      <td>Employed</td>\n",
              "      <td>3.00</td>\n",
              "      <td>NaN</td>\n",
              "      <td>NaN</td>\n",
              "    </tr>\n",
              "    <tr>\n",
              "      <th>14052</th>\n",
              "      <td>111995</td>\n",
              "      <td>25</td>\n",
              "      <td>Female</td>\n",
              "      <td>Unmarried</td>\n",
              "      <td>247.00</td>\n",
              "      <td>None</td>\n",
              "      <td>None</td>\n",
              "      <td>0.373122</td>\n",
              "      <td>3</td>\n",
              "      <td>NaN</td>\n",
              "      <td>medium</td>\n",
              "      <td>0.186189</td>\n",
              "      <td>Employed</td>\n",
              "      <td>4.00</td>\n",
              "      <td>NaN</td>\n",
              "      <td>NaN</td>\n",
              "    </tr>\n",
              "    <tr>\n",
              "      <th>14083</th>\n",
              "      <td>106592</td>\n",
              "      <td>39</td>\n",
              "      <td>Male</td>\n",
              "      <td>Married</td>\n",
              "      <td>230.00</td>\n",
              "      <td>None</td>\n",
              "      <td>None</td>\n",
              "      <td>NaN</td>\n",
              "      <td>4</td>\n",
              "      <td>NaN</td>\n",
              "      <td>medium</td>\n",
              "      <td>0.903135</td>\n",
              "      <td>Employed</td>\n",
              "      <td>3.00</td>\n",
              "      <td>NaN</td>\n",
              "      <td>NaN</td>\n",
              "    </tr>\n",
              "    <tr>\n",
              "      <th>14104</th>\n",
              "      <td>101864</td>\n",
              "      <td>24</td>\n",
              "      <td>Male</td>\n",
              "      <td>Unmarried</td>\n",
              "      <td>139.00</td>\n",
              "      <td>None</td>\n",
              "      <td>None</td>\n",
              "      <td>0.397772</td>\n",
              "      <td>3</td>\n",
              "      <td>1.0</td>\n",
              "      <td>medium</td>\n",
              "      <td>0.554280</td>\n",
              "      <td>Employed</td>\n",
              "      <td>8.00</td>\n",
              "      <td>NaN</td>\n",
              "      <td>NaN</td>\n",
              "    </tr>\n",
              "  </tbody>\n",
              "</table>\n",
              "<p>706 rows × 16 columns</p>\n",
              "</div>"
            ],
            "text/plain": [
              "       employee_id  age  gender  ... tenure dept_name dept_head\n",
              "0           124467   42  Female  ...   4.00       NaN       NaN\n",
              "1           112210   23  Female  ...   3.00       NaN       NaN\n",
              "25          127792   23  Female  ...   3.00       NaN       NaN\n",
              "28          128509   25  Female  ...   3.00       NaN       NaN\n",
              "39          125077   22  Female  ...   5.00       NaN       NaN\n",
              "...            ...  ...     ...  ...    ...       ...       ...\n",
              "14018       109640   23    Male  ...   3.00       NaN       NaN\n",
              "14031       119098   24  Female  ...   3.00       NaN       NaN\n",
              "14052       111995   25  Female  ...   4.00       NaN       NaN\n",
              "14083       106592   39    Male  ...   3.00       NaN       NaN\n",
              "14104       101864   24    Male  ...   8.00       NaN       NaN\n",
              "\n",
              "[706 rows x 16 columns]"
            ]
          },
          "metadata": {
            "tags": []
          },
          "execution_count": 40
        }
      ]
    },
    {
      "cell_type": "markdown",
      "metadata": {
        "id": "MgpNi3DxboAt"
      },
      "source": [
        "### Pre processing before EDA"
      ]
    },
    {
      "cell_type": "markdown",
      "metadata": {
        "id": "D59MxlVObq-J"
      },
      "source": [
        "##### Treating the null values of filed_complaint and  recently_promoted as 0 since this are the data which have less amount of data:"
      ]
    },
    {
      "cell_type": "code",
      "metadata": {
        "id": "nsoM7ffqcBEU"
      },
      "source": [
        "train_dataset['filed_complaint'] = train_dataset['filed_complaint'].fillna(0)\n",
        "train_dataset['recently_promoted'] = train_dataset['recently_promoted'].fillna(0)\n",
        "train_dataset['last_evaluation'] = train_dataset['last_evaluation'].fillna(0.0)\n",
        "train_dataset['satisfaction'] = train_dataset['satisfaction'].fillna(0.0)\n",
        "train_dataset['tenure'] = train_dataset['tenure'].fillna(0.0)\n",
        "\n",
        "#test_data\n",
        "test_data['filed_complaint'] = test_data['filed_complaint'].fillna(0)\n",
        "test_data['recently_promoted'] = train_dataset['recently_promoted'].fillna(0)\n",
        "test_data['last_evaluation'] = test_data['last_evaluation'].fillna(0.0)\n",
        "test_data['satisfaction'] = test_data['satisfaction'].fillna(0.0)\n",
        "test_data['tenure'] = test_data['tenure'].fillna(0.0)\n",
        "\n"
      ],
      "execution_count": null,
      "outputs": []
    },
    {
      "cell_type": "code",
      "metadata": {
        "id": "Eu_0r8MauhXx"
      },
      "source": [
        "# mking age column int, average_mn to int recently promoted to int tenure to int\n",
        "train_dataset[['age', 'avg_monthly_hrs', 'recently_promoted', 'tenure']] = train_dataset[['age', 'avg_monthly_hrs', 'recently_promoted', 'tenure']].astype(int)\n",
        "test_data[['age', 'avg_monthly_hrs', 'recently_promoted', 'tenure']] = test_data[['age', 'avg_monthly_hrs', 'recently_promoted', 'tenure']].astype(int)"
      ],
      "execution_count": null,
      "outputs": []
    },
    {
      "cell_type": "markdown",
      "metadata": {
        "id": "F3KNn5bWuD0D"
      },
      "source": [
        "##### replacing null values of depart ment to other"
      ]
    },
    {
      "cell_type": "code",
      "metadata": {
        "id": "BYuR-U5euD0D"
      },
      "source": [
        "train_dataset[['department', 'dept_name', 'dept_head']] = train_dataset[['department', 'dept_name', 'dept_head']].fillna('Other')"
      ],
      "execution_count": null,
      "outputs": []
    },
    {
      "cell_type": "code",
      "metadata": {
        "id": "koogDo1SuD0D"
      },
      "source": [
        "test_data['department'] = test_data['department'].fillna('Other')"
      ],
      "execution_count": null,
      "outputs": []
    },
    {
      "cell_type": "code",
      "metadata": {
        "id": "gRgLoTvUuD0D"
      },
      "source": [
        "train_dataset['age'] = train_dataset['age'].fillna(train_dataset['age'].mean())\n",
        "train_dataset['gender'] = train_dataset['gender'].fillna(train_dataset['gender'].mode()[0])\n",
        "train_dataset['marital_status'] = train_dataset['marital_status'].fillna(train_dataset['marital_status'].mode()[0])"
      ],
      "execution_count": null,
      "outputs": []
    },
    {
      "cell_type": "code",
      "metadata": {
        "colab": {
          "base_uri": "https://localhost:8080/"
        },
        "id": "eDfVxQ_bRDVR",
        "outputId": "5dd0d372-7688-4678-c1bd-e9b8f8b590a5"
      },
      "source": [
        "test_data.isnull().sum()"
      ],
      "execution_count": null,
      "outputs": [
        {
          "output_type": "execute_result",
          "data": {
            "text/plain": [
              "employee_id          0\n",
              "age                  0\n",
              "gender               0\n",
              "marital_status       0\n",
              "avg_monthly_hrs      0\n",
              "department           0\n",
              "filed_complaint      0\n",
              "last_evaluation      0\n",
              "n_projects           0\n",
              "recently_promoted    0\n",
              "salary               0\n",
              "satisfaction         0\n",
              "tenure               0\n",
              "dept_name            2\n",
              "dept_head            2\n",
              "dtype: int64"
            ]
          },
          "metadata": {
            "tags": []
          },
          "execution_count": 48
        }
      ]
    },
    {
      "cell_type": "code",
      "metadata": {
        "id": "I0p4mAe1ecGF"
      },
      "source": [
        "train_dataset.status = train_dataset.status.map({'Left':1, 'Employed':0})"
      ],
      "execution_count": null,
      "outputs": []
    },
    {
      "cell_type": "markdown",
      "metadata": {
        "id": "HBZADsUQuD0D"
      },
      "source": [
        "<a id=section7></a>\n",
        "# 7. EDA and Inferences"
      ]
    },
    {
      "cell_type": "markdown",
      "metadata": {
        "id": "o_mxsmq-uD0D"
      },
      "source": [
        "##### Setting Target variable:"
      ]
    },
    {
      "cell_type": "code",
      "metadata": {
        "id": "f2nwCvfjcpzt"
      },
      "source": [
        "TARGET_COL = 'status'"
      ],
      "execution_count": null,
      "outputs": []
    },
    {
      "cell_type": "markdown",
      "metadata": {
        "id": "tpYf7YumYtVx"
      },
      "source": [
        "##### Distribution of the Target variable:"
      ]
    },
    {
      "cell_type": "code",
      "metadata": {
        "colab": {
          "base_uri": "https://localhost:8080/",
          "height": 350
        },
        "id": "GkSNUk7IZAaG",
        "outputId": "1bccb0a5-ed09-4c17-da81-306fbdc55876"
      },
      "source": [
        "_ = sns.countplot(train_dataset['status'])\n",
        "_ = plt.title(\"Target Disotribution\", fontsize=14)"
      ],
      "execution_count": null,
      "outputs": [
        {
          "output_type": "stream",
          "text": [
            "/usr/local/lib/python3.6/dist-packages/seaborn/_decorators.py:43: FutureWarning: Pass the following variable as a keyword arg: x. From version 0.12, the only valid positional argument will be `data`, and passing other arguments without an explicit keyword will result in an error or misinterpretation.\n",
            "  FutureWarning\n"
          ],
          "name": "stderr"
        },
        {
          "output_type": "display_data",
          "data": {
            "image/png": "[encoded data removed]",
            "text/plain": [
              "<Figure size 432x288 with 1 Axes>"
            ]
          },
          "metadata": {
            "tags": [],
            "needs_background": "light"
          }
        }
      ]
    },
    {
      "cell_type": "markdown",
      "metadata": {
        "id": "3Nv7v-ouuD0D"
      },
      "source": [
        "###### Percentage of target variable distribution:"
      ]
    },
    {
      "cell_type": "code",
      "metadata": {
        "colab": {
          "base_uri": "https://localhost:8080/"
        },
        "id": "fFzOtT-uY_Sn",
        "outputId": "0072d998-b26e-4e8b-871b-3dccc06b31f0"
      },
      "source": [
        "train_dataset['status'].value_counts(normalize=True)"
      ],
      "execution_count": null,
      "outputs": [
        {
          "output_type": "execute_result",
          "data": {
            "text/plain": [
              "0    0.762326\n",
              "1    0.237674\n",
              "Name: status, dtype: float64"
            ]
          },
          "metadata": {
            "tags": []
          },
          "execution_count": 51
        }
      ]
    },
    {
      "cell_type": "code",
      "metadata": {
        "colab": {
          "base_uri": "https://localhost:8080/",
          "height": 444
        },
        "id": "9c_JxBInuD0D",
        "outputId": "e3c679e6-1dd9-4308-a0f3-e9cec7357abc"
      },
      "source": [
        "train_dataset['status'].value_counts().plot(kind='pie',  explode = [0, 0.09], fontsize=14, autopct='%3.1f%%', \n",
        "                                               figsize=(7,7), shadow=True, startangle=135, legend=True, cmap='summer')\n",
        "plt.title('Pie chart showing the proportion of employees who have left the organisation')"
      ],
      "execution_count": null,
      "outputs": [
        {
          "output_type": "execute_result",
          "data": {
            "text/plain": [
              "Text(0.5, 1.0, 'Pie chart showing the proportion of employees who have left the organisation')"
            ]
          },
          "metadata": {
            "tags": []
          },
          "execution_count": 52
        },
        {
          "output_type": "display_data",
          "data": {
            "image/png": "[encoded data removed]",
            "text/plain": [
              "<Figure size 504x504 with 1 Axes>"
            ]
          },
          "metadata": {
            "tags": []
          }
        }
      ]
    },
    {
      "cell_type": "markdown",
      "metadata": {
        "id": "aQpUtsQrcWYa"
      },
      "source": [
        "**Observations** :  Around 76% of data is 0 i.e. employee didnt leave the company and around 24% of data is 1 i.e. employee left the company"
      ]
    },
    {
      "cell_type": "markdown",
      "metadata": {
        "id": "lvYMVRbZuD0D"
      },
      "source": [
        "##### Finding distribution of employee age:"
      ]
    },
    {
      "cell_type": "code",
      "metadata": {
        "colab": {
          "base_uri": "https://localhost:8080/",
          "height": 282
        },
        "id": "RQzhqksqZXca",
        "outputId": "9c020526-ffb9-4564-fbad-980040d40e2d"
      },
      "source": [
        "train_dataset['age'].plot.hist(bins=5)"
      ],
      "execution_count": null,
      "outputs": [
        {
          "output_type": "execute_result",
          "data": {
            "text/plain": [
              "<matplotlib.axes._subplots.AxesSubplot at 0x7f6ede8421d0>"
            ]
          },
          "metadata": {
            "tags": []
          },
          "execution_count": 53
        },
        {
          "output_type": "display_data",
          "data": {
            "image/png": "[encoded data removed]",
            "text/plain": [
              "<Figure size 432x288 with 1 Axes>"
            ]
          },
          "metadata": {
            "tags": [],
            "needs_background": "light"
          }
        }
      ]
    },
    {
      "cell_type": "code",
      "metadata": {
        "id": "o56Peq6NZlB6"
      },
      "source": [
        "train_dataset['age_group'] = pd.cut(train_dataset['age'], range(21, 62, 5),labels=['group'+str(i) for i in range(1,9)])"
      ],
      "execution_count": null,
      "outputs": []
    },
    {
      "cell_type": "code",
      "metadata": {
        "colab": {
          "base_uri": "https://localhost:8080/"
        },
        "id": "hjn24fAPZMss",
        "outputId": "e0b45771-5d02-4117-9df8-c47f915aa88e"
      },
      "source": [
        "# pd.cut(train_dataset['age'], range(22, 55, 5), right=False, labels=labels)\n",
        "train_dataset['age'].min(), train_dataset['age'].max()"
      ],
      "execution_count": null,
      "outputs": [
        {
          "output_type": "execute_result",
          "data": {
            "text/plain": [
              "(22, 57)"
            ]
          },
          "metadata": {
            "tags": []
          },
          "execution_count": 55
        }
      ]
    },
    {
      "cell_type": "markdown",
      "metadata": {
        "id": "s-GgFfdMuD0E"
      },
      "source": [
        "**Observations**: Most of the employees are in the age group 20-30. Minium age of the employee is 22 and maximum is 57"
      ]
    },
    {
      "cell_type": "markdown",
      "metadata": {
        "id": "s1ApXXaMuD0E"
      },
      "source": [
        "##### Examining temporary employees: "
      ]
    },
    {
      "cell_type": "code",
      "metadata": {
        "colab": {
          "base_uri": "https://localhost:8080/",
          "height": 392
        },
        "id": "bOt2_FHrLGY0",
        "outputId": "545eb06c-4d3c-415e-d892-89f5d143dae6"
      },
      "source": [
        "train_dataset[train_dataset['department']=='D00-TP']"
      ],
      "execution_count": null,
      "outputs": [
        {
          "output_type": "execute_result",
          "data": {
            "text/html": [
              "<div>\n",
              "<style scoped>\n",
              "    .dataframe tbody tr th:only-of-type {\n",
              "        vertical-align: middle;\n",
              "    }\n",
              "\n",
              "    .dataframe tbody tr th {\n",
              "        vertical-align: top;\n",
              "    }\n",
              "\n",
              "    .dataframe thead th {\n",
              "        text-align: right;\n",
              "    }\n",
              "</style>\n",
              "<table border=\"1\" class=\"dataframe\">\n",
              "  <thead>\n",
              "    <tr style=\"text-align: right;\">\n",
              "      <th></th>\n",
              "      <th>employee_id</th>\n",
              "      <th>age</th>\n",
              "      <th>gender</th>\n",
              "      <th>marital_status</th>\n",
              "      <th>avg_monthly_hrs</th>\n",
              "      <th>department</th>\n",
              "      <th>filed_complaint</th>\n",
              "      <th>last_evaluation</th>\n",
              "      <th>n_projects</th>\n",
              "      <th>recently_promoted</th>\n",
              "      <th>salary</th>\n",
              "      <th>satisfaction</th>\n",
              "      <th>status</th>\n",
              "      <th>tenure</th>\n",
              "      <th>dept_name</th>\n",
              "      <th>dept_head</th>\n",
              "      <th>age_group</th>\n",
              "    </tr>\n",
              "  </thead>\n",
              "  <tbody>\n",
              "    <tr>\n",
              "      <th>43</th>\n",
              "      <td>120360</td>\n",
              "      <td>24</td>\n",
              "      <td>Female</td>\n",
              "      <td>Unmarried</td>\n",
              "      <td>125</td>\n",
              "      <td>D00-TP</td>\n",
              "      <td>0</td>\n",
              "      <td>0.0</td>\n",
              "      <td>3</td>\n",
              "      <td>0</td>\n",
              "      <td>medium</td>\n",
              "      <td>0.0</td>\n",
              "      <td>1</td>\n",
              "      <td>0</td>\n",
              "      <td>Temp</td>\n",
              "      <td>Micheal Zachrey</td>\n",
              "      <td>group1</td>\n",
              "    </tr>\n",
              "    <tr>\n",
              "      <th>244</th>\n",
              "      <td>116012</td>\n",
              "      <td>25</td>\n",
              "      <td>Female</td>\n",
              "      <td>Unmarried</td>\n",
              "      <td>124</td>\n",
              "      <td>D00-TP</td>\n",
              "      <td>0</td>\n",
              "      <td>0.0</td>\n",
              "      <td>3</td>\n",
              "      <td>0</td>\n",
              "      <td>low</td>\n",
              "      <td>0.0</td>\n",
              "      <td>1</td>\n",
              "      <td>0</td>\n",
              "      <td>Temp</td>\n",
              "      <td>Micheal Zachrey</td>\n",
              "      <td>group1</td>\n",
              "    </tr>\n",
              "    <tr>\n",
              "      <th>250</th>\n",
              "      <td>116287</td>\n",
              "      <td>22</td>\n",
              "      <td>Female</td>\n",
              "      <td>Unmarried</td>\n",
              "      <td>119</td>\n",
              "      <td>D00-TP</td>\n",
              "      <td>0</td>\n",
              "      <td>0.0</td>\n",
              "      <td>2</td>\n",
              "      <td>0</td>\n",
              "      <td>medium</td>\n",
              "      <td>0.0</td>\n",
              "      <td>1</td>\n",
              "      <td>0</td>\n",
              "      <td>Temp</td>\n",
              "      <td>Micheal Zachrey</td>\n",
              "      <td>group1</td>\n",
              "    </tr>\n",
              "    <tr>\n",
              "      <th>412</th>\n",
              "      <td>115235</td>\n",
              "      <td>24</td>\n",
              "      <td>Female</td>\n",
              "      <td>Unmarried</td>\n",
              "      <td>126</td>\n",
              "      <td>D00-TP</td>\n",
              "      <td>0</td>\n",
              "      <td>0.0</td>\n",
              "      <td>2</td>\n",
              "      <td>0</td>\n",
              "      <td>low</td>\n",
              "      <td>0.0</td>\n",
              "      <td>1</td>\n",
              "      <td>0</td>\n",
              "      <td>Temp</td>\n",
              "      <td>Micheal Zachrey</td>\n",
              "      <td>group1</td>\n",
              "    </tr>\n",
              "    <tr>\n",
              "      <th>466</th>\n",
              "      <td>122769</td>\n",
              "      <td>24</td>\n",
              "      <td>Female</td>\n",
              "      <td>Unmarried</td>\n",
              "      <td>65</td>\n",
              "      <td>D00-TP</td>\n",
              "      <td>0</td>\n",
              "      <td>0.0</td>\n",
              "      <td>1</td>\n",
              "      <td>0</td>\n",
              "      <td>high</td>\n",
              "      <td>0.0</td>\n",
              "      <td>1</td>\n",
              "      <td>0</td>\n",
              "      <td>Temp</td>\n",
              "      <td>Micheal Zachrey</td>\n",
              "      <td>group1</td>\n",
              "    </tr>\n",
              "    <tr>\n",
              "      <th>...</th>\n",
              "      <td>...</td>\n",
              "      <td>...</td>\n",
              "      <td>...</td>\n",
              "      <td>...</td>\n",
              "      <td>...</td>\n",
              "      <td>...</td>\n",
              "      <td>...</td>\n",
              "      <td>...</td>\n",
              "      <td>...</td>\n",
              "      <td>...</td>\n",
              "      <td>...</td>\n",
              "      <td>...</td>\n",
              "      <td>...</td>\n",
              "      <td>...</td>\n",
              "      <td>...</td>\n",
              "      <td>...</td>\n",
              "      <td>...</td>\n",
              "    </tr>\n",
              "    <tr>\n",
              "      <th>13736</th>\n",
              "      <td>111990</td>\n",
              "      <td>23</td>\n",
              "      <td>Male</td>\n",
              "      <td>Unmarried</td>\n",
              "      <td>122</td>\n",
              "      <td>D00-TP</td>\n",
              "      <td>0</td>\n",
              "      <td>0.0</td>\n",
              "      <td>2</td>\n",
              "      <td>0</td>\n",
              "      <td>medium</td>\n",
              "      <td>0.0</td>\n",
              "      <td>0</td>\n",
              "      <td>0</td>\n",
              "      <td>Temp</td>\n",
              "      <td>Micheal Zachrey</td>\n",
              "      <td>group1</td>\n",
              "    </tr>\n",
              "    <tr>\n",
              "      <th>13769</th>\n",
              "      <td>148021</td>\n",
              "      <td>23</td>\n",
              "      <td>Male</td>\n",
              "      <td>Unmarried</td>\n",
              "      <td>49</td>\n",
              "      <td>D00-TP</td>\n",
              "      <td>0</td>\n",
              "      <td>0.0</td>\n",
              "      <td>2</td>\n",
              "      <td>0</td>\n",
              "      <td>low</td>\n",
              "      <td>0.0</td>\n",
              "      <td>0</td>\n",
              "      <td>0</td>\n",
              "      <td>Temp</td>\n",
              "      <td>Micheal Zachrey</td>\n",
              "      <td>group1</td>\n",
              "    </tr>\n",
              "    <tr>\n",
              "      <th>13836</th>\n",
              "      <td>116171</td>\n",
              "      <td>29</td>\n",
              "      <td>Male</td>\n",
              "      <td>Unmarried</td>\n",
              "      <td>97</td>\n",
              "      <td>D00-TP</td>\n",
              "      <td>1.00</td>\n",
              "      <td>0.0</td>\n",
              "      <td>1</td>\n",
              "      <td>0</td>\n",
              "      <td>medium</td>\n",
              "      <td>0.0</td>\n",
              "      <td>0</td>\n",
              "      <td>0</td>\n",
              "      <td>Temp</td>\n",
              "      <td>Micheal Zachrey</td>\n",
              "      <td>group2</td>\n",
              "    </tr>\n",
              "    <tr>\n",
              "      <th>13900</th>\n",
              "      <td>106482</td>\n",
              "      <td>27</td>\n",
              "      <td>Male</td>\n",
              "      <td>Unmarried</td>\n",
              "      <td>132</td>\n",
              "      <td>D00-TP</td>\n",
              "      <td>0</td>\n",
              "      <td>0.0</td>\n",
              "      <td>2</td>\n",
              "      <td>0</td>\n",
              "      <td>medium</td>\n",
              "      <td>0.0</td>\n",
              "      <td>1</td>\n",
              "      <td>0</td>\n",
              "      <td>Temp</td>\n",
              "      <td>Micheal Zachrey</td>\n",
              "      <td>group2</td>\n",
              "    </tr>\n",
              "    <tr>\n",
              "      <th>13955</th>\n",
              "      <td>105231</td>\n",
              "      <td>23</td>\n",
              "      <td>Male</td>\n",
              "      <td>Unmarried</td>\n",
              "      <td>116</td>\n",
              "      <td>D00-TP</td>\n",
              "      <td>0</td>\n",
              "      <td>0.0</td>\n",
              "      <td>2</td>\n",
              "      <td>0</td>\n",
              "      <td>low</td>\n",
              "      <td>0.0</td>\n",
              "      <td>0</td>\n",
              "      <td>0</td>\n",
              "      <td>Temp</td>\n",
              "      <td>Micheal Zachrey</td>\n",
              "      <td>group1</td>\n",
              "    </tr>\n",
              "  </tbody>\n",
              "</table>\n",
              "<p>150 rows × 17 columns</p>\n",
              "</div>"
            ],
            "text/plain": [
              "       employee_id  age  gender  ... dept_name        dept_head age_group\n",
              "43          120360   24  Female  ...      Temp  Micheal Zachrey    group1\n",
              "244         116012   25  Female  ...      Temp  Micheal Zachrey    group1\n",
              "250         116287   22  Female  ...      Temp  Micheal Zachrey    group1\n",
              "412         115235   24  Female  ...      Temp  Micheal Zachrey    group1\n",
              "466         122769   24  Female  ...      Temp  Micheal Zachrey    group1\n",
              "...            ...  ...     ...  ...       ...              ...       ...\n",
              "13736       111990   23    Male  ...      Temp  Micheal Zachrey    group1\n",
              "13769       148021   23    Male  ...      Temp  Micheal Zachrey    group1\n",
              "13836       116171   29    Male  ...      Temp  Micheal Zachrey    group2\n",
              "13900       106482   27    Male  ...      Temp  Micheal Zachrey    group2\n",
              "13955       105231   23    Male  ...      Temp  Micheal Zachrey    group1\n",
              "\n",
              "[150 rows x 17 columns]"
            ]
          },
          "metadata": {
            "tags": []
          },
          "execution_count": 56
        }
      ]
    },
    {
      "cell_type": "code",
      "metadata": {
        "colab": {
          "base_uri": "https://localhost:8080/",
          "height": 499
        },
        "id": "KpInVP64uD0E",
        "outputId": "cfd21e2f-618d-4a5f-a60c-d66a0bec6905"
      },
      "source": [
        "train_dataset[train_dataset['department']=='D00-TP']['age_group'].value_counts().plot(kind='pie', fontsize=14, autopct='%3.1f%%', \n",
        "                                               figsize=(8,8), shadow=True, startangle=135, legend=True, cmap='Set2')\n",
        "plt.title('Pie chart showing the proportion of employees who have left the organisation')"
      ],
      "execution_count": null,
      "outputs": [
        {
          "output_type": "execute_result",
          "data": {
            "text/plain": [
              "Text(0.5, 1.0, 'Pie chart showing the proportion of employees who have left the organisation')"
            ]
          },
          "metadata": {
            "tags": []
          },
          "execution_count": 57
        },
        {
          "output_type": "display_data",
          "data": {
            "image/png": "[encoded data removed]",
            "text/plain": [
              "<Figure size 576x576 with 1 Axes>"
            ]
          },
          "metadata": {
            "tags": []
          }
        }
      ]
    },
    {
      "cell_type": "markdown",
      "metadata": {
        "id": "VQRvsEYBuD0E"
      },
      "source": [
        "**Observations**: Temporary workers are all below 32 years of age. "
      ]
    },
    {
      "cell_type": "markdown",
      "metadata": {
        "id": "Ua05tXxNaNox"
      },
      "source": [
        "<a id=section701></a>\n",
        "## 7.1 EDA of variables and their relation with the target variable:\n",
        "\n",
        "There are two types of features that we have:\n",
        "\n",
        "1. Categorical\n",
        "2. Numerical\n",
        "\n",
        "Also, our target variable is Binary.\n",
        "\n",
        "For each feature type we will be perform two types of analysis:\n",
        "\n",
        "1. Univariate: Analyze 1 feature at a time\n",
        "\n",
        "2. Bivariate: Analyze the relationship of that feature with target variable"
      ]
    },
    {
      "cell_type": "code",
      "metadata": {
        "id": "1xldQWXnbmuG"
      },
      "source": [
        "cont = ['satisfaction', 'avg_monthly_hrs', 'n_projects', 'tenure', 'age', 'last_evaluation']\n",
        "cats = list(set(train_dataset.columns)-set(cont))\n",
        "cats.remove('employee_id')\n",
        "cats.remove('department')\n",
        "cats.remove('dept_head')\n",
        "cats.remove('status')\n",
        "# lets find categorical_variables and continuos variables\n",
        "# department, salary\n",
        "# age, avg_monthly_hrs, last_evaluation ,n_projects ,satisfaction ,tenure "
      ],
      "execution_count": null,
      "outputs": []
    },
    {
      "cell_type": "markdown",
      "metadata": {
        "id": "9IWZBvtkaSEU"
      },
      "source": [
        "<a id=section70101></a>\n",
        "### 7.1.1 Univariate Analysis \n",
        "\n",
        "Pie Charts can be useful in seeing the proportion of samples, that fall into each category of a categorical variable. For each of the categorical variables we will make a pie chart.\n",
        "\n",
        "#### Univariate Analysis - Pie Charts:"
      ]
    },
    {
      "cell_type": "code",
      "metadata": {
        "colab": {
          "base_uri": "https://localhost:8080/",
          "height": 392
        },
        "id": "7scIos2aacaL",
        "outputId": "2006bbc6-2d20-4425-a272-30048e3f4fe2"
      },
      "source": [
        "train_dataset[cats]"
      ],
      "execution_count": null,
      "outputs": [
        {
          "output_type": "execute_result",
          "data": {
            "text/html": [
              "<div>\n",
              "<style scoped>\n",
              "    .dataframe tbody tr th:only-of-type {\n",
              "        vertical-align: middle;\n",
              "    }\n",
              "\n",
              "    .dataframe tbody tr th {\n",
              "        vertical-align: top;\n",
              "    }\n",
              "\n",
              "    .dataframe thead th {\n",
              "        text-align: right;\n",
              "    }\n",
              "</style>\n",
              "<table border=\"1\" class=\"dataframe\">\n",
              "  <thead>\n",
              "    <tr style=\"text-align: right;\">\n",
              "      <th></th>\n",
              "      <th>marital_status</th>\n",
              "      <th>dept_name</th>\n",
              "      <th>recently_promoted</th>\n",
              "      <th>gender</th>\n",
              "      <th>age_group</th>\n",
              "      <th>salary</th>\n",
              "      <th>filed_complaint</th>\n",
              "    </tr>\n",
              "  </thead>\n",
              "  <tbody>\n",
              "    <tr>\n",
              "      <th>0</th>\n",
              "      <td>Married</td>\n",
              "      <td>Other</td>\n",
              "      <td>0</td>\n",
              "      <td>Female</td>\n",
              "      <td>group5</td>\n",
              "      <td>medium</td>\n",
              "      <td>0</td>\n",
              "    </tr>\n",
              "    <tr>\n",
              "      <th>1</th>\n",
              "      <td>Unmarried</td>\n",
              "      <td>Other</td>\n",
              "      <td>0</td>\n",
              "      <td>Female</td>\n",
              "      <td>group1</td>\n",
              "      <td>low</td>\n",
              "      <td>0</td>\n",
              "    </tr>\n",
              "    <tr>\n",
              "      <th>2</th>\n",
              "      <td>Unmarried</td>\n",
              "      <td>Sales</td>\n",
              "      <td>0</td>\n",
              "      <td>Female</td>\n",
              "      <td>group1</td>\n",
              "      <td>medium</td>\n",
              "      <td>1.00</td>\n",
              "    </tr>\n",
              "    <tr>\n",
              "      <th>3</th>\n",
              "      <td>Married</td>\n",
              "      <td>Support</td>\n",
              "      <td>0</td>\n",
              "      <td>Female</td>\n",
              "      <td>group6</td>\n",
              "      <td>low</td>\n",
              "      <td>0</td>\n",
              "    </tr>\n",
              "    <tr>\n",
              "      <th>4</th>\n",
              "      <td>Unmarried</td>\n",
              "      <td>Sales</td>\n",
              "      <td>0</td>\n",
              "      <td>Female</td>\n",
              "      <td>group1</td>\n",
              "      <td>medium</td>\n",
              "      <td>0</td>\n",
              "    </tr>\n",
              "    <tr>\n",
              "      <th>...</th>\n",
              "      <td>...</td>\n",
              "      <td>...</td>\n",
              "      <td>...</td>\n",
              "      <td>...</td>\n",
              "      <td>...</td>\n",
              "      <td>...</td>\n",
              "      <td>...</td>\n",
              "    </tr>\n",
              "    <tr>\n",
              "      <th>14111</th>\n",
              "      <td>Unmarried</td>\n",
              "      <td>Sales</td>\n",
              "      <td>0</td>\n",
              "      <td>Male</td>\n",
              "      <td>group2</td>\n",
              "      <td>low</td>\n",
              "      <td>0</td>\n",
              "    </tr>\n",
              "    <tr>\n",
              "      <th>14112</th>\n",
              "      <td>Unmarried</td>\n",
              "      <td>Sales</td>\n",
              "      <td>0</td>\n",
              "      <td>Female</td>\n",
              "      <td>group1</td>\n",
              "      <td>low</td>\n",
              "      <td>0</td>\n",
              "    </tr>\n",
              "    <tr>\n",
              "      <th>14113</th>\n",
              "      <td>Unmarried</td>\n",
              "      <td>Support</td>\n",
              "      <td>0</td>\n",
              "      <td>Male</td>\n",
              "      <td>group2</td>\n",
              "      <td>medium</td>\n",
              "      <td>0</td>\n",
              "    </tr>\n",
              "    <tr>\n",
              "      <th>14114</th>\n",
              "      <td>Married</td>\n",
              "      <td>IT</td>\n",
              "      <td>0</td>\n",
              "      <td>Male</td>\n",
              "      <td>group5</td>\n",
              "      <td>low</td>\n",
              "      <td>0</td>\n",
              "    </tr>\n",
              "    <tr>\n",
              "      <th>14115</th>\n",
              "      <td>Unmarried</td>\n",
              "      <td>Support</td>\n",
              "      <td>0</td>\n",
              "      <td>Male</td>\n",
              "      <td>group1</td>\n",
              "      <td>low</td>\n",
              "      <td>1.00</td>\n",
              "    </tr>\n",
              "  </tbody>\n",
              "</table>\n",
              "<p>14116 rows × 7 columns</p>\n",
              "</div>"
            ],
            "text/plain": [
              "      marital_status dept_name  ...  salary filed_complaint\n",
              "0            Married     Other  ...  medium               0\n",
              "1          Unmarried     Other  ...     low               0\n",
              "2          Unmarried     Sales  ...  medium            1.00\n",
              "3            Married   Support  ...     low               0\n",
              "4          Unmarried     Sales  ...  medium               0\n",
              "...              ...       ...  ...     ...             ...\n",
              "14111      Unmarried     Sales  ...     low               0\n",
              "14112      Unmarried     Sales  ...     low               0\n",
              "14113      Unmarried   Support  ...  medium               0\n",
              "14114        Married        IT  ...     low               0\n",
              "14115      Unmarried   Support  ...     low            1.00\n",
              "\n",
              "[14116 rows x 7 columns]"
            ]
          },
          "metadata": {
            "tags": []
          },
          "execution_count": 59
        }
      ]
    },
    {
      "cell_type": "code",
      "metadata": {
        "colab": {
          "base_uri": "https://localhost:8080/",
          "height": 1000
        },
        "id": "PxzhBdnraT8b",
        "outputId": "4692d105-175a-45a5-cf1d-e940d4999b81"
      },
      "source": [
        "fig, axes = plt.subplots(4, 2, figsize=(25, 25))\n",
        "axes = [ax for axes_row in axes for ax in axes_row]\n",
        "\n",
        "for i, c in enumerate(train_dataset[cats]):\n",
        "    _ = train_dataset[c].value_counts()[::-1].plot(kind = 'pie', ax=axes[i], shadow = True, title=c, autopct='%.0f',cmap = \"Spectral\", fontsize=12, startangle = 30,wedgeprops=dict(width=0.15))\n",
        "    _ = axes[i].set_ylabel('')\n",
        "  \n",
        "    \n",
        "_ = plt.tight_layout()"
      ],
      "execution_count": null,
      "outputs": [
        {
          "output_type": "display_data",
          "data": {
            "image/png": "[encoded data removed]",
            "text/plain": [
              "<Figure size 1800x1800 with 8 Axes>"
            ]
          },
          "metadata": {
            "tags": [],
            "needs_background": "light"
          }
        }
      ]
    },
    {
      "cell_type": "markdown",
      "metadata": {
        "id": "VqGFA5e4bqN8"
      },
      "source": [
        "#### **Univariate Analysis - CountPlots**\n",
        "\n",
        "Another way of looking at the counts of each of the categories is countplots. These are similar to barplots with the width of the bars representing the count of the category in the variable"
      ]
    },
    {
      "cell_type": "code",
      "metadata": {
        "colab": {
          "base_uri": "https://localhost:8080/",
          "height": 1000
        },
        "id": "3Z32N1GLccq7",
        "outputId": "8e73c79d-90ef-42f3-88e5-92b9571c9677"
      },
      "source": [
        "fig, axes = plt.subplots(4, 2, figsize=(20, 20))\n",
        "axes = [ax for axes_row in axes for ax in axes_row]\n",
        "\n",
        "for i, c in enumerate(train_dataset[cats]):\n",
        "    _ = train_dataset[c].value_counts()[::-1].plot(kind = 'barh', ax=axes[i], title=c, fontsize=14)\n",
        "    \n",
        "_ = plt.tight_layout()"
      ],
      "execution_count": null,
      "outputs": [
        {
          "output_type": "display_data",
          "data": {
            "image/png": "[encoded data removed]",
            "text/plain": [
              "<Figure size 1440x1440 with 8 Axes>"
            ]
          },
          "metadata": {
            "tags": [],
            "needs_background": "light"
          }
        }
      ]
    },
    {
      "cell_type": "markdown",
      "metadata": {
        "id": "nnyPf-_tuD0E"
      },
      "source": [
        "### Insights:\n",
        "   - Sales department has the maximum employees constituting 28% followed by engineering department having 18% and support having 15% of the total employees.\n",
        "   - 14% of the employees have filed complaint\n",
        "   - 49% of the employees are married\n",
        "   - 2% of the employees are recently promoted\n",
        "   - 39% of the employees are belo 27 years of age and fall in the age-group 1\n",
        "   - 49% of the employees are in low salary category, 43% in medium salary category and only 8% are drawing high salary\n",
        "   - 34% of the employees are female and 66% are male."
      ]
    },
    {
      "cell_type": "markdown",
      "metadata": {
        "id": "aW0YdteFuD0F"
      },
      "source": [
        "<a id=section70102></a>\n",
        "### 7.1.2 Bivariate Analysis - CountPlots"
      ]
    },
    {
      "cell_type": "code",
      "metadata": {
        "colab": {
          "base_uri": "https://localhost:8080/",
          "height": 1000
        },
        "id": "Fzw2lgTJchnm",
        "outputId": "ae447d03-335d-4eb0-f337-1303aecdb8aa"
      },
      "source": [
        "\n",
        "fig, axes = plt.subplots(4, 2, figsize=(20, 20))\n",
        "axes = [ax for axes_row in axes for ax in axes_row]\n",
        "\n",
        "for i, c in enumerate(train_dataset[cats]):\n",
        "    fltr = train_dataset[TARGET_COL] == 'Left'\n",
        "    vc_a = train_dataset[fltr][c].value_counts(normalize=True).reset_index().rename({'index' : c, c: 'count'}, axis=1)\n",
        "\n",
        "    vc_b = train_dataset[~fltr][c].value_counts(normalize=True).reset_index().rename({'index' : c, c: 'count'}, axis=1)\n",
        "\n",
        "    vc_a[TARGET_COL] = 'Employed'\n",
        "    vc_b[TARGET_COL] = 'Left'\n",
        "\n",
        "    df = pd.concat([vc_a, vc_b]).reset_index(drop = True)\n",
        "\n",
        "    _ = sns.barplot(y = c, x = 'count', data =df , hue=TARGET_COL, ax=axes[i], orient='h')\n",
        "    \n",
        "_ = plt.tight_layout()"
      ],
      "execution_count": null,
      "outputs": [
        {
          "output_type": "display_data",
          "data": {
            "image/png": "[encoded data removed]",
            "text/plain": [
              "<Figure size 1440x1440 with 8 Axes>"
            ]
          },
          "metadata": {
            "tags": [],
            "needs_background": "light"
          }
        }
      ]
    },
    {
      "cell_type": "markdown",
      "metadata": {
        "id": "gj62nIZmc9Fh"
      },
      "source": [
        "### Insights: What are the most interesting findings?\n",
        "- More people are leaving in the following departments: Management, Procurement, Admin, Temp and IT.\n",
        "- Most of the people who have filed complaint have left the company\n",
        "- Married employees are leaving the company more than the unmarried people\n",
        "- Once the employees are promoted, they are quitting the company.\n",
        "- Employees below 26 years and above 45 years are not leaving the company as much as people between 26-46 years.\n",
        "- Employees with high & medium salaries are the ones leaving the company."
      ]
    },
    {
      "cell_type": "markdown",
      "metadata": {
        "id": "AGSRzokKifxj"
      },
      "source": [
        "##### Checking for co-relation among the variables:"
      ]
    },
    {
      "cell_type": "code",
      "metadata": {
        "colab": {
          "base_uri": "https://localhost:8080/",
          "height": 571
        },
        "id": "JYgcWNuRii4W",
        "outputId": "8ab4ddac-8202-42a4-c009-4b2d5443e2b6"
      },
      "source": [
        "fig, ax = plt.subplots(figsize=(8,8))\n",
        "sns.heatmap( train_dataset[['age', 'avg_monthly_hrs', 'filed_complaint', 'last_evaluation','n_projects','recently_promoted','satisfaction','tenure'] ].corr(), annot=True );"
      ],
      "execution_count": null,
      "outputs": [
        {
          "output_type": "display_data",
          "data": {
            "image/png": "[encoded data removed]",
            "text/plain": [
              "<Figure size 576x576 with 2 Axes>"
            ]
          },
          "metadata": {
            "tags": [],
            "needs_background": "light"
          }
        }
      ]
    },
    {
      "cell_type": "markdown",
      "metadata": {
        "id": "7_BvZ3-3vI-x"
      },
      "source": [
        "#### Finding - How are married people who are working long hours coping in the company"
      ]
    },
    {
      "cell_type": "code",
      "metadata": {
        "colab": {
          "base_uri": "https://localhost:8080/",
          "height": 454
        },
        "id": "gu4Ap372hw9O",
        "outputId": "435872be-b037-42ec-bc30-a0aca51f807a"
      },
      "source": [
        "sns.factorplot(y ='marital_status', x= 'avg_monthly_hrs',kind = 'violin', col = 'gender', \n",
        "               hue= 'status',data = train_dataset, palette= 'RdBu', split = True)"
      ],
      "execution_count": null,
      "outputs": [
        {
          "output_type": "stream",
          "text": [
            "/usr/local/lib/python3.6/dist-packages/seaborn/categorical.py:3704: UserWarning: The `factorplot` function has been renamed to `catplot`. The original name will be removed in a future release. Please update your code. Note that the default `kind` in `factorplot` (`'point'`) has changed `'strip'` in `catplot`.\n",
            "  warnings.warn(msg)\n"
          ],
          "name": "stderr"
        },
        {
          "output_type": "execute_result",
          "data": {
            "text/plain": [
              "<seaborn.axisgrid.FacetGrid at 0x7f6ed9bb2160>"
            ]
          },
          "metadata": {
            "tags": []
          },
          "execution_count": 64
        },
        {
          "output_type": "display_data",
          "data": {
            "image/png": "[encoded data removed]",
            "text/plain": [
              "<Figure size 762.375x360 with 2 Axes>"
            ]
          },
          "metadata": {
            "tags": [],
            "needs_background": "light"
          }
        }
      ]
    },
    {
      "cell_type": "markdown",
      "metadata": {
        "id": "X0S4viyTuD0F"
      },
      "source": [
        "**Insights**: Interestingly, most of the married people who have left the company have been working longer hours compared to married people who are still employed. Contrary to married people, Unmarried people who have left the company are interestingly working less than unmarried people who have stayed with the company. "
      ]
    },
    {
      "cell_type": "markdown",
      "metadata": {
        "id": "2X-rnCGpuD0F"
      },
      "source": [
        "#### Recently promoted vs average monthly working hours"
      ]
    },
    {
      "cell_type": "code",
      "metadata": {
        "colab": {
          "base_uri": "https://localhost:8080/",
          "height": 454
        },
        "id": "zN2lzBzVuD0F",
        "outputId": "db4e9f45-b515-41e8-a7c9-877928805d0b"
      },
      "source": [
        "sns.factorplot(x ='recently_promoted', y= 'avg_monthly_hrs',kind = 'violin', col='gender',\n",
        "               hue= 'status',data = train_dataset, palette='Set3', split = True)"
      ],
      "execution_count": null,
      "outputs": [
        {
          "output_type": "stream",
          "text": [
            "/usr/local/lib/python3.6/dist-packages/seaborn/categorical.py:3704: UserWarning: The `factorplot` function has been renamed to `catplot`. The original name will be removed in a future release. Please update your code. Note that the default `kind` in `factorplot` (`'point'`) has changed `'strip'` in `catplot`.\n",
            "  warnings.warn(msg)\n"
          ],
          "name": "stderr"
        },
        {
          "output_type": "execute_result",
          "data": {
            "text/plain": [
              "<seaborn.axisgrid.FacetGrid at 0x7f6ed9bb2e48>"
            ]
          },
          "metadata": {
            "tags": []
          },
          "execution_count": 65
        },
        {
          "output_type": "display_data",
          "data": {
            "image/png": "[encoded data removed]",
            "text/plain": [
              "<Figure size 762.375x360 with 2 Axes>"
            ]
          },
          "metadata": {
            "tags": [],
            "needs_background": "light"
          }
        }
      ]
    },
    {
      "cell_type": "markdown",
      "metadata": {
        "id": "F6o-B4snuD0F"
      },
      "source": [
        "**Insignts** : When we see how many hours an employees who is promoted working, we notice that a promoted employee if he has intention to leave, reduces his working hours."
      ]
    },
    {
      "cell_type": "markdown",
      "metadata": {
        "id": "9L6uUMFuuD0F"
      },
      "source": [
        "#### How are married and unmarried employees doing in the company"
      ]
    },
    {
      "cell_type": "code",
      "metadata": {
        "colab": {
          "base_uri": "https://localhost:8080/",
          "height": 384
        },
        "id": "38rTMu0LuD0F",
        "outputId": "8b607e71-8635-40c3-fcaa-7ddced8fe963"
      },
      "source": [
        "g = sns.catplot(x ='marital_status', \n",
        "               hue= 'status',kind = 'count', col = 'gender', data = train_dataset, palette=\"Set1\")\n",
        "total = len(train_dataset['marital_status'])\n",
        "for ax in g.axes.ravel():\n",
        "  for p in ax.patches:\n",
        "    ax.annotate(format(p.get_height(), '.2f'), (p.get_x() + p.get_width() / 2., p.get_height()), ha = 'center', va = 'center', xytext = (0, 10), textcoords = 'offset points')"
      ],
      "execution_count": null,
      "outputs": [
        {
          "output_type": "display_data",
          "data": {
            "image/png": "[encoded data removed]",
            "text/plain": [
              "<Figure size 762.375x360 with 2 Axes>"
            ]
          },
          "metadata": {
            "tags": [],
            "needs_background": "light"
          }
        }
      ]
    },
    {
      "cell_type": "markdown",
      "metadata": {
        "id": "QJYZmN7CuD0F"
      },
      "source": [
        "**Insight**: for around 4.5k unmarried/married male(3656+923=4579 unmarried male & 3771+937= 4708 married male ) employees, 900+ employees are quitting. That is around 20% of employees. when we consider Female employees, for 2.1k(1726+471 =2197) married female employees 471 have left which makes 21%. where as 1024 unmarried female employees have left out of (1608+1024=2632) 2632 unmarried female employees, ie., 39% of unmarried female employees have left the company. "
      ]
    },
    {
      "cell_type": "markdown",
      "metadata": {
        "id": "Ah5VVGfohwAW"
      },
      "source": [
        "<a id=section8></a>\n",
        "# 8. Modelling"
      ]
    },
    {
      "cell_type": "markdown",
      "metadata": {
        "id": "NOzoHNaYuD0F"
      },
      "source": [
        "<a id=section801></a>\n",
        "# 8.1 Feature Engineering"
      ]
    },
    {
      "cell_type": "markdown",
      "metadata": {
        "id": "VmCjG4soyUwZ"
      },
      "source": [
        "### Post Processing after EDA"
      ]
    },
    {
      "cell_type": "code",
      "metadata": {
        "colab": {
          "base_uri": "https://localhost:8080/",
          "height": 190
        },
        "id": "WjZZ_XElwvSI",
        "outputId": "aa08e48c-3953-4e0a-f907-eac1af0ecfc0"
      },
      "source": [
        "# for the modelling part we will delete extra two columns of department because if we decode them then three columns have 1 correlation so we can use only 1 of them.\n",
        "train_dataset.head()"
      ],
      "execution_count": null,
      "outputs": [
        {
          "output_type": "execute_result",
          "data": {
            "text/html": [
              "<div>\n",
              "<style scoped>\n",
              "    .dataframe tbody tr th:only-of-type {\n",
              "        vertical-align: middle;\n",
              "    }\n",
              "\n",
              "    .dataframe tbody tr th {\n",
              "        vertical-align: top;\n",
              "    }\n",
              "\n",
              "    .dataframe thead th {\n",
              "        text-align: right;\n",
              "    }\n",
              "</style>\n",
              "<table border=\"1\" class=\"dataframe\">\n",
              "  <thead>\n",
              "    <tr style=\"text-align: right;\">\n",
              "      <th></th>\n",
              "      <th>employee_id</th>\n",
              "      <th>age</th>\n",
              "      <th>gender</th>\n",
              "      <th>marital_status</th>\n",
              "      <th>avg_monthly_hrs</th>\n",
              "      <th>department</th>\n",
              "      <th>filed_complaint</th>\n",
              "      <th>last_evaluation</th>\n",
              "      <th>n_projects</th>\n",
              "      <th>recently_promoted</th>\n",
              "      <th>salary</th>\n",
              "      <th>satisfaction</th>\n",
              "      <th>status</th>\n",
              "      <th>tenure</th>\n",
              "      <th>dept_name</th>\n",
              "      <th>dept_head</th>\n",
              "      <th>age_group</th>\n",
              "    </tr>\n",
              "  </thead>\n",
              "  <tbody>\n",
              "    <tr>\n",
              "      <th>0</th>\n",
              "      <td>124467</td>\n",
              "      <td>42</td>\n",
              "      <td>Female</td>\n",
              "      <td>Married</td>\n",
              "      <td>246</td>\n",
              "      <td>Other</td>\n",
              "      <td>0</td>\n",
              "      <td>0.866838</td>\n",
              "      <td>6</td>\n",
              "      <td>0</td>\n",
              "      <td>medium</td>\n",
              "      <td>0.134415</td>\n",
              "      <td>1</td>\n",
              "      <td>4</td>\n",
              "      <td>Other</td>\n",
              "      <td>Other</td>\n",
              "      <td>group5</td>\n",
              "    </tr>\n",
              "    <tr>\n",
              "      <th>1</th>\n",
              "      <td>112210</td>\n",
              "      <td>23</td>\n",
              "      <td>Female</td>\n",
              "      <td>Unmarried</td>\n",
              "      <td>134</td>\n",
              "      <td>Other</td>\n",
              "      <td>0</td>\n",
              "      <td>0.555718</td>\n",
              "      <td>2</td>\n",
              "      <td>0</td>\n",
              "      <td>low</td>\n",
              "      <td>0.511041</td>\n",
              "      <td>1</td>\n",
              "      <td>3</td>\n",
              "      <td>Other</td>\n",
              "      <td>Other</td>\n",
              "      <td>group1</td>\n",
              "    </tr>\n",
              "    <tr>\n",
              "      <th>2</th>\n",
              "      <td>126150</td>\n",
              "      <td>24</td>\n",
              "      <td>Female</td>\n",
              "      <td>Unmarried</td>\n",
              "      <td>156</td>\n",
              "      <td>D00-SS</td>\n",
              "      <td>1.00</td>\n",
              "      <td>0.474082</td>\n",
              "      <td>2</td>\n",
              "      <td>0</td>\n",
              "      <td>medium</td>\n",
              "      <td>0.405101</td>\n",
              "      <td>1</td>\n",
              "      <td>3</td>\n",
              "      <td>Sales</td>\n",
              "      <td>Edward J Bayley</td>\n",
              "      <td>group1</td>\n",
              "    </tr>\n",
              "    <tr>\n",
              "      <th>3</th>\n",
              "      <td>125346</td>\n",
              "      <td>51</td>\n",
              "      <td>Female</td>\n",
              "      <td>Married</td>\n",
              "      <td>256</td>\n",
              "      <td>D00-SP</td>\n",
              "      <td>0</td>\n",
              "      <td>0.961360</td>\n",
              "      <td>6</td>\n",
              "      <td>0</td>\n",
              "      <td>low</td>\n",
              "      <td>0.152974</td>\n",
              "      <td>1</td>\n",
              "      <td>4</td>\n",
              "      <td>Support</td>\n",
              "      <td>Amelia Westray</td>\n",
              "      <td>group6</td>\n",
              "    </tr>\n",
              "    <tr>\n",
              "      <th>4</th>\n",
              "      <td>113707</td>\n",
              "      <td>23</td>\n",
              "      <td>Female</td>\n",
              "      <td>Unmarried</td>\n",
              "      <td>146</td>\n",
              "      <td>D00-SS</td>\n",
              "      <td>0</td>\n",
              "      <td>0.507349</td>\n",
              "      <td>2</td>\n",
              "      <td>0</td>\n",
              "      <td>medium</td>\n",
              "      <td>0.434845</td>\n",
              "      <td>1</td>\n",
              "      <td>3</td>\n",
              "      <td>Sales</td>\n",
              "      <td>Edward J Bayley</td>\n",
              "      <td>group1</td>\n",
              "    </tr>\n",
              "  </tbody>\n",
              "</table>\n",
              "</div>"
            ],
            "text/plain": [
              "   employee_id  age  gender  ... dept_name        dept_head age_group\n",
              "0       124467   42  Female  ...     Other            Other    group5\n",
              "1       112210   23  Female  ...     Other            Other    group1\n",
              "2       126150   24  Female  ...     Sales  Edward J Bayley    group1\n",
              "3       125346   51  Female  ...   Support   Amelia Westray    group6\n",
              "4       113707   23  Female  ...     Sales  Edward J Bayley    group1\n",
              "\n",
              "[5 rows x 17 columns]"
            ]
          },
          "metadata": {
            "tags": []
          },
          "execution_count": 67
        }
      ]
    },
    {
      "cell_type": "code",
      "metadata": {
        "id": "SPyws56GxYWc"
      },
      "source": [
        "train_dataset = train_dataset.drop(['dept_name', 'dept_head'], axis=1)"
      ],
      "execution_count": null,
      "outputs": []
    },
    {
      "cell_type": "code",
      "metadata": {
        "colab": {
          "base_uri": "https://localhost:8080/",
          "height": 190
        },
        "id": "uGq4cs9mRhvH",
        "outputId": "f3eba93f-9f8a-49e5-a227-1146302498f5"
      },
      "source": [
        "test_data.head()"
      ],
      "execution_count": null,
      "outputs": [
        {
          "output_type": "execute_result",
          "data": {
            "text/html": [
              "<div>\n",
              "<style scoped>\n",
              "    .dataframe tbody tr th:only-of-type {\n",
              "        vertical-align: middle;\n",
              "    }\n",
              "\n",
              "    .dataframe tbody tr th {\n",
              "        vertical-align: top;\n",
              "    }\n",
              "\n",
              "    .dataframe thead th {\n",
              "        text-align: right;\n",
              "    }\n",
              "</style>\n",
              "<table border=\"1\" class=\"dataframe\">\n",
              "  <thead>\n",
              "    <tr style=\"text-align: right;\">\n",
              "      <th></th>\n",
              "      <th>employee_id</th>\n",
              "      <th>age</th>\n",
              "      <th>gender</th>\n",
              "      <th>marital_status</th>\n",
              "      <th>avg_monthly_hrs</th>\n",
              "      <th>department</th>\n",
              "      <th>filed_complaint</th>\n",
              "      <th>last_evaluation</th>\n",
              "      <th>n_projects</th>\n",
              "      <th>recently_promoted</th>\n",
              "      <th>salary</th>\n",
              "      <th>satisfaction</th>\n",
              "      <th>tenure</th>\n",
              "      <th>dept_name</th>\n",
              "      <th>dept_head</th>\n",
              "    </tr>\n",
              "  </thead>\n",
              "  <tbody>\n",
              "    <tr>\n",
              "      <th>0</th>\n",
              "      <td>119045</td>\n",
              "      <td>27</td>\n",
              "      <td>Male</td>\n",
              "      <td>Unmarried</td>\n",
              "      <td>134</td>\n",
              "      <td>D00-IT</td>\n",
              "      <td>0.0</td>\n",
              "      <td>0.528841</td>\n",
              "      <td>2</td>\n",
              "      <td>0</td>\n",
              "      <td>low</td>\n",
              "      <td>0.400464</td>\n",
              "      <td>3</td>\n",
              "      <td>IT</td>\n",
              "      <td>Henry Adey</td>\n",
              "    </tr>\n",
              "    <tr>\n",
              "      <th>1</th>\n",
              "      <td>112223</td>\n",
              "      <td>23</td>\n",
              "      <td>Male</td>\n",
              "      <td>Unmarried</td>\n",
              "      <td>221</td>\n",
              "      <td>D00-PD</td>\n",
              "      <td>0.0</td>\n",
              "      <td>0.784561</td>\n",
              "      <td>2</td>\n",
              "      <td>0</td>\n",
              "      <td>low</td>\n",
              "      <td>0.759513</td>\n",
              "      <td>3</td>\n",
              "      <td>Product</td>\n",
              "      <td>Darcy Staines</td>\n",
              "    </tr>\n",
              "    <tr>\n",
              "      <th>2</th>\n",
              "      <td>103924</td>\n",
              "      <td>26</td>\n",
              "      <td>Male</td>\n",
              "      <td>Unmarried</td>\n",
              "      <td>156</td>\n",
              "      <td>D00-SS</td>\n",
              "      <td>0.0</td>\n",
              "      <td>0.545183</td>\n",
              "      <td>2</td>\n",
              "      <td>0</td>\n",
              "      <td>medium</td>\n",
              "      <td>0.336457</td>\n",
              "      <td>3</td>\n",
              "      <td>Sales</td>\n",
              "      <td>Edward J Bayley</td>\n",
              "    </tr>\n",
              "    <tr>\n",
              "      <th>3</th>\n",
              "      <td>105922</td>\n",
              "      <td>52</td>\n",
              "      <td>Male</td>\n",
              "      <td>Married</td>\n",
              "      <td>133</td>\n",
              "      <td>D00-PR</td>\n",
              "      <td>0.0</td>\n",
              "      <td>0.000000</td>\n",
              "      <td>4</td>\n",
              "      <td>0</td>\n",
              "      <td>medium</td>\n",
              "      <td>0.832039</td>\n",
              "      <td>2</td>\n",
              "      <td>Procurement</td>\n",
              "      <td>Louie Viles</td>\n",
              "    </tr>\n",
              "    <tr>\n",
              "      <th>4</th>\n",
              "      <td>103297</td>\n",
              "      <td>27</td>\n",
              "      <td>Male</td>\n",
              "      <td>Unmarried</td>\n",
              "      <td>135</td>\n",
              "      <td>D00-SS</td>\n",
              "      <td>0.0</td>\n",
              "      <td>0.454637</td>\n",
              "      <td>2</td>\n",
              "      <td>0</td>\n",
              "      <td>low</td>\n",
              "      <td>0.320723</td>\n",
              "      <td>5</td>\n",
              "      <td>Sales</td>\n",
              "      <td>Edward J Bayley</td>\n",
              "    </tr>\n",
              "  </tbody>\n",
              "</table>\n",
              "</div>"
            ],
            "text/plain": [
              "   employee_id  age gender  ... tenure    dept_name        dept_head\n",
              "0       119045   27   Male  ...      3           IT       Henry Adey\n",
              "1       112223   23   Male  ...      3      Product    Darcy Staines\n",
              "2       103924   26   Male  ...      3        Sales  Edward J Bayley\n",
              "3       105922   52   Male  ...      2  Procurement      Louie Viles\n",
              "4       103297   27   Male  ...      5        Sales  Edward J Bayley\n",
              "\n",
              "[5 rows x 15 columns]"
            ]
          },
          "metadata": {
            "tags": []
          },
          "execution_count": 69
        }
      ]
    },
    {
      "cell_type": "code",
      "metadata": {
        "colab": {
          "base_uri": "https://localhost:8080/",
          "height": 190
        },
        "id": "wBnGq4lWyRPA",
        "outputId": "1c740c39-1585-4df2-f491-7b6b82dcef4d"
      },
      "source": [
        "train_dataset.head()"
      ],
      "execution_count": null,
      "outputs": [
        {
          "output_type": "execute_result",
          "data": {
            "text/html": [
              "<div>\n",
              "<style scoped>\n",
              "    .dataframe tbody tr th:only-of-type {\n",
              "        vertical-align: middle;\n",
              "    }\n",
              "\n",
              "    .dataframe tbody tr th {\n",
              "        vertical-align: top;\n",
              "    }\n",
              "\n",
              "    .dataframe thead th {\n",
              "        text-align: right;\n",
              "    }\n",
              "</style>\n",
              "<table border=\"1\" class=\"dataframe\">\n",
              "  <thead>\n",
              "    <tr style=\"text-align: right;\">\n",
              "      <th></th>\n",
              "      <th>employee_id</th>\n",
              "      <th>age</th>\n",
              "      <th>gender</th>\n",
              "      <th>marital_status</th>\n",
              "      <th>avg_monthly_hrs</th>\n",
              "      <th>department</th>\n",
              "      <th>filed_complaint</th>\n",
              "      <th>last_evaluation</th>\n",
              "      <th>n_projects</th>\n",
              "      <th>recently_promoted</th>\n",
              "      <th>salary</th>\n",
              "      <th>satisfaction</th>\n",
              "      <th>status</th>\n",
              "      <th>tenure</th>\n",
              "      <th>age_group</th>\n",
              "    </tr>\n",
              "  </thead>\n",
              "  <tbody>\n",
              "    <tr>\n",
              "      <th>0</th>\n",
              "      <td>124467</td>\n",
              "      <td>42</td>\n",
              "      <td>Female</td>\n",
              "      <td>Married</td>\n",
              "      <td>246</td>\n",
              "      <td>Other</td>\n",
              "      <td>0</td>\n",
              "      <td>0.866838</td>\n",
              "      <td>6</td>\n",
              "      <td>0</td>\n",
              "      <td>medium</td>\n",
              "      <td>0.134415</td>\n",
              "      <td>1</td>\n",
              "      <td>4</td>\n",
              "      <td>group5</td>\n",
              "    </tr>\n",
              "    <tr>\n",
              "      <th>1</th>\n",
              "      <td>112210</td>\n",
              "      <td>23</td>\n",
              "      <td>Female</td>\n",
              "      <td>Unmarried</td>\n",
              "      <td>134</td>\n",
              "      <td>Other</td>\n",
              "      <td>0</td>\n",
              "      <td>0.555718</td>\n",
              "      <td>2</td>\n",
              "      <td>0</td>\n",
              "      <td>low</td>\n",
              "      <td>0.511041</td>\n",
              "      <td>1</td>\n",
              "      <td>3</td>\n",
              "      <td>group1</td>\n",
              "    </tr>\n",
              "    <tr>\n",
              "      <th>2</th>\n",
              "      <td>126150</td>\n",
              "      <td>24</td>\n",
              "      <td>Female</td>\n",
              "      <td>Unmarried</td>\n",
              "      <td>156</td>\n",
              "      <td>D00-SS</td>\n",
              "      <td>1.00</td>\n",
              "      <td>0.474082</td>\n",
              "      <td>2</td>\n",
              "      <td>0</td>\n",
              "      <td>medium</td>\n",
              "      <td>0.405101</td>\n",
              "      <td>1</td>\n",
              "      <td>3</td>\n",
              "      <td>group1</td>\n",
              "    </tr>\n",
              "    <tr>\n",
              "      <th>3</th>\n",
              "      <td>125346</td>\n",
              "      <td>51</td>\n",
              "      <td>Female</td>\n",
              "      <td>Married</td>\n",
              "      <td>256</td>\n",
              "      <td>D00-SP</td>\n",
              "      <td>0</td>\n",
              "      <td>0.961360</td>\n",
              "      <td>6</td>\n",
              "      <td>0</td>\n",
              "      <td>low</td>\n",
              "      <td>0.152974</td>\n",
              "      <td>1</td>\n",
              "      <td>4</td>\n",
              "      <td>group6</td>\n",
              "    </tr>\n",
              "    <tr>\n",
              "      <th>4</th>\n",
              "      <td>113707</td>\n",
              "      <td>23</td>\n",
              "      <td>Female</td>\n",
              "      <td>Unmarried</td>\n",
              "      <td>146</td>\n",
              "      <td>D00-SS</td>\n",
              "      <td>0</td>\n",
              "      <td>0.507349</td>\n",
              "      <td>2</td>\n",
              "      <td>0</td>\n",
              "      <td>medium</td>\n",
              "      <td>0.434845</td>\n",
              "      <td>1</td>\n",
              "      <td>3</td>\n",
              "      <td>group1</td>\n",
              "    </tr>\n",
              "  </tbody>\n",
              "</table>\n",
              "</div>"
            ],
            "text/plain": [
              "   employee_id  age  gender  ... status  tenure age_group\n",
              "0       124467   42  Female  ...      1       4    group5\n",
              "1       112210   23  Female  ...      1       3    group1\n",
              "2       126150   24  Female  ...      1       3    group1\n",
              "3       125346   51  Female  ...      1       4    group6\n",
              "4       113707   23  Female  ...      1       3    group1\n",
              "\n",
              "[5 rows x 15 columns]"
            ]
          },
          "metadata": {
            "tags": []
          },
          "execution_count": 70
        }
      ]
    },
    {
      "cell_type": "markdown",
      "metadata": {
        "id": "bFQLuNcFJ7oP"
      },
      "source": [
        "### Lets convert our string categorical to numerical"
      ]
    },
    {
      "cell_type": "markdown",
      "metadata": {
        "id": "_qhivgMKMtxc"
      },
      "source": [
        "#### We will encode the variable salary manually since it has an order"
      ]
    },
    {
      "cell_type": "code",
      "metadata": {
        "id": "wgKVnbuYMsOe"
      },
      "source": [
        "train_dataset['salary'] = train_dataset['salary'].replace({'low':1, 'medium':2, 'high':3})\n",
        "test_data['salary'] = test_data['salary'].replace({'low':1, 'medium':2, 'high':3})\n"
      ],
      "execution_count": null,
      "outputs": []
    },
    {
      "cell_type": "code",
      "metadata": {
        "id": "izeq8i6GKDAX"
      },
      "source": [
        "string_cate = ['gender', 'marital_status', 'department', 'age_group',]"
      ],
      "execution_count": null,
      "outputs": []
    },
    {
      "cell_type": "markdown",
      "metadata": {
        "id": "qX8mLgPwuD0G"
      },
      "source": [
        "#### Defining a function to encode columns using 'Label encoding' and 'One Hot Encoding':"
      ]
    },
    {
      "cell_type": "code",
      "metadata": {
        "id": "XxFvepSHKMOv"
      },
      "source": [
        "def encode_variable(df, columns, type_='label'):\n",
        "  data = df.copy()\n",
        "  if type_=='label':\n",
        "    from sklearn.preprocessing import LabelEncoder\n",
        "    le = LabelEncoder()\n",
        "    for i in columns:\n",
        "      le.fit(data[i])\n",
        "      data[i] = le.transform(data[i])\n",
        "  if type_ == 'ohe':\n",
        "    data = pd.get_dummies(data, columns=columns,drop_first=True)\n",
        "  return data"
      ],
      "execution_count": null,
      "outputs": []
    },
    {
      "cell_type": "markdown",
      "metadata": {
        "id": "XMBv1bacLTxb"
      },
      "source": [
        "<a id=section802></a>\n",
        "# 8.2 Finding Baseline Model"
      ]
    },
    {
      "cell_type": "code",
      "metadata": {
        "id": "oYB7m-IbMfrd"
      },
      "source": [
        "from sklearn.linear_model import RidgeClassifier, LogisticRegression, Lasso\n",
        "from sklearn.ensemble import RandomForestClassifier\n",
        "from sklearn.tree import ExtraTreeClassifier\n",
        "from xgboost import XGBClassifier\n",
        "from lightgbm import LGBMClassifier\n",
        "from sklearn.model_selection import StratifiedKFold\n",
        "from sklearn.metrics import roc_auc_score, f1_score,accuracy_score\n",
        "from sklearn.feature_selection import SelectKBest\n",
        "from sklearn.feature_selection import chi2"
      ],
      "execution_count": null,
      "outputs": []
    },
    {
      "cell_type": "code",
      "metadata": {
        "id": "TvMrWE2CSq3_"
      },
      "source": [
        "boosting_models = ['xgb', 'lgb']"
      ],
      "execution_count": null,
      "outputs": []
    },
    {
      "cell_type": "markdown",
      "metadata": {
        "id": "F1wchc7xyroV"
      },
      "source": [
        "#### Defining a function to find baseline model\n",
        "\n",
        "Performs cross validation for the training dataset by using stratified kfold and it returns **F1-score, ROC-AUC, Accuracy** scores. Based on these scores we can select the best model"
      ]
    },
    {
      "cell_type": "code",
      "metadata": {
        "id": "hDf3ctQrwSjT"
      },
      "source": [
        "def run_model(model, X, y, model_name, test_dataset, n_splits=5):\n",
        "  skf = StratifiedKFold(n_splits = n_splits)\n",
        "\n",
        "  oobs = np.zeros(X.shape[0])\n",
        "\n",
        "  predictions_oob = np.zeros(test_dataset.shape[0])\n",
        "\n",
        "  for i, (train_id, valid_id) in enumerate(skf.split(X,y)):\n",
        "    print(\"FOLD\",i)\n",
        "    X_train, y_train = X[train_id], y[train_id]\n",
        "    X_valid, y_valid = X[valid_id], y[valid_id]\n",
        "    if model_name in boosting_models:\n",
        "      model.fit(X_train, y_train, eval_set=[(X_valid, y_valid)], early_stopping_rounds=30, verbose=100)\n",
        "    else:\n",
        "      model.fit(X_train, y_train)\n",
        "    \n",
        "    predictions = model.predict_proba(X_valid)\n",
        "    oobs[valid_id] = predictions[:,1]\n",
        "\n",
        "    predictions_oob += model.predict_proba(test_dataset)[:,1]\n",
        "    \n",
        "\n",
        "  f1 = f1_score(y, oobs.round())\n",
        "  roc_auc = roc_auc_score(y, oobs)\n",
        "  acc = accuracy_score(y, oobs.round())\n",
        "  print(\"_________AUC ROC \"+str(model_name)+\"  SCORE__________\")\n",
        "  print(roc_auc_score(y, oobs))\n",
        "  print(\"_________F1 \"+str(model_name)+\"  SCORE__________\")\n",
        "  print(f1_score(y, oobs.round()))\n",
        "  print(\"_________ACCURACY \"+str(model_name)+\"  SCORE__________\")\n",
        "  print(accuracy_score(y, oobs.round()))\n",
        "\n",
        "  predictions_oob = predictions_oob/n_splits\n",
        "\n",
        "  return f1, roc_auc, acc, predictions_oob"
      ],
      "execution_count": null,
      "outputs": []
    },
    {
      "cell_type": "code",
      "metadata": {
        "id": "QHIYx5ZLwbOe"
      },
      "source": [
        "# Features which are not important \n",
        "feature_drop_cols = ['employee_id', 'age', 'gender', 'marital_status', 'age_group']\n",
        "\n",
        "X = train_dataset.drop([TARGET_COL]+feature_drop_cols,axis=1)\n",
        "y = train_dataset[TARGET_COL]\n",
        "X_test = test_data.drop(['employee_id'], axis=1)\n",
        "\n",
        "# Update the list of categorical variables which we have dropped now.\n",
        "\n",
        "updated_string_cate = list(set(string_cate)-set(feature_drop_cols))\n"
      ],
      "execution_count": null,
      "outputs": []
    },
    {
      "cell_type": "code",
      "metadata": {
        "id": "xrkZ3TBAwsJ9"
      },
      "source": [
        "### Store the Scores for each model\n",
        "models_df = pd.DataFrame(columns=['Model_name', 'model', 'AUC-ROC', 'F1', 'Accuracy', 'time_train', 'columns'])\n",
        "\n",
        "## Tried both one hot encoder and label encoder....one hot encoder was performing best \n",
        "\n",
        "models = {\n",
        "    'logistic_regression':['ohe', LogisticRegression(max_iter=1000)],\n",
        "    'extra_tree_classifier':['ohe', ExtraTreeClassifier()],\n",
        "    'random_forest':['ohe', RandomForestClassifier(random_state=42)],\n",
        "    'xgboost': ['ohe', XGBClassifier(n_estimators=1000, tree_method='gpu_hist', gpu_i=0)],\n",
        "    'LGBM':['ohe', LGBMClassifier(n_estimators=1000, learning_rate=0.05,colsample_bytree=0.8, random_state=42)],\n",
        "}"
      ],
      "execution_count": null,
      "outputs": []
    },
    {
      "cell_type": "code",
      "metadata": {
        "colab": {
          "base_uri": "https://localhost:8080/"
        },
        "id": "uVVHeZibwifE",
        "outputId": "8420996d-3578-471b-a743-287e03eadf83"
      },
      "source": [
        "from sklearn.preprocessing import StandardScaler\n",
        "for i, (model_name, model) in enumerate(models.items()):\n",
        "  import time\n",
        "  start = time.time()\n",
        "  encode_type = model[0]\n",
        "  model = model[1]\n",
        "  X_temp = encode_variable(X, columns=updated_string_cate, type_=encode_type)\n",
        "  X_test_temp = encode_variable(X_test, columns=updated_string_cate, type_=encode_type)\n",
        "\n",
        "  columns = X_temp.columns.tolist()\n",
        "\n",
        "  X_temp = X_temp[columns].values\n",
        "  y_temp = y.values\n",
        "  X_test_temp = X_test_temp[columns].values \n",
        "  \n",
        "  f1, auc, accuracy,predictions = run_model(model, X_temp, y_temp, model_name,X_test_temp, n_splits=5)\n",
        "  end = time.time()\n",
        "  time_taken = end-start\n",
        "  models_df.loc[i] = model_name, model, auc, f1, accuracy,time_taken, columns\n",
        "\n",
        "  print(\"\\n\\n\")"
      ],
      "execution_count": null,
      "outputs": [
        {
          "output_type": "stream",
          "text": [
            "FOLD 0\n",
            "FOLD 1\n",
            "FOLD 2\n",
            "FOLD 3\n",
            "FOLD 4\n",
            "_________AUC ROC logistic_regression  SCORE__________\n",
            "0.8187586237269291\n",
            "_________F1 logistic_regression  SCORE__________\n",
            "0.4496619083395943\n",
            "_________ACCURACY logistic_regression  SCORE__________\n",
            "0.7924341173136866\n",
            "\n",
            "\n",
            "\n",
            "FOLD 0\n",
            "FOLD 1\n",
            "FOLD 2\n",
            "FOLD 3\n",
            "FOLD 4\n",
            "_________AUC ROC extra_tree_classifier  SCORE__________\n",
            "0.9255296386146863\n",
            "_________F1 extra_tree_classifier  SCORE__________\n",
            "0.8798944126704796\n",
            "_________ACCURACY extra_tree_classifier  SCORE__________\n",
            "0.9419807310852932\n",
            "\n",
            "\n",
            "\n",
            "FOLD 0\n",
            "FOLD 1\n",
            "FOLD 2\n",
            "FOLD 3\n",
            "FOLD 4\n",
            "_________AUC ROC random_forest  SCORE__________\n",
            "0.9880275006436419\n",
            "_________F1 random_forest  SCORE__________\n",
            "0.9523809523809523\n",
            "_________ACCURACY random_forest  SCORE__________\n",
            "0.9779682629640125\n",
            "\n",
            "\n",
            "\n",
            "FOLD 0\n",
            "FOLD 1\n",
            "FOLD 2\n",
            "FOLD 3\n",
            "FOLD 4\n",
            "_________AUC ROC xgboost  SCORE__________\n",
            "0.9871649444487608\n",
            "_________F1 xgboost  SCORE__________\n",
            "0.9373676248108925\n",
            "_________ACCURACY xgboost  SCORE__________\n",
            "0.9706715783508076\n",
            "\n",
            "\n",
            "\n",
            "FOLD 0\n",
            "FOLD 1\n",
            "FOLD 2\n",
            "FOLD 3\n",
            "FOLD 4\n",
            "_________AUC ROC LGBM  SCORE__________\n",
            "0.9890601666253267\n",
            "_________F1 LGBM  SCORE__________\n",
            "0.9530609144766823\n",
            "_________ACCURACY LGBM  SCORE__________\n",
            "0.9781099461603854\n",
            "\n",
            "\n",
            "\n"
          ],
          "name": "stdout"
        }
      ]
    },
    {
      "cell_type": "code",
      "metadata": {
        "colab": {
          "base_uri": "https://localhost:8080/",
          "height": 190
        },
        "id": "hfJWPkMXwyYZ",
        "outputId": "b1bbaff6-30ee-419f-8455-dc1fcd530ab2"
      },
      "source": [
        "models_df"
      ],
      "execution_count": null,
      "outputs": [
        {
          "output_type": "execute_result",
          "data": {
            "text/html": [
              "<div>\n",
              "<style scoped>\n",
              "    .dataframe tbody tr th:only-of-type {\n",
              "        vertical-align: middle;\n",
              "    }\n",
              "\n",
              "    .dataframe tbody tr th {\n",
              "        vertical-align: top;\n",
              "    }\n",
              "\n",
              "    .dataframe thead th {\n",
              "        text-align: right;\n",
              "    }\n",
              "</style>\n",
              "<table border=\"1\" class=\"dataframe\">\n",
              "  <thead>\n",
              "    <tr style=\"text-align: right;\">\n",
              "      <th></th>\n",
              "      <th>Model_name</th>\n",
              "      <th>model</th>\n",
              "      <th>AUC-ROC</th>\n",
              "      <th>F1</th>\n",
              "      <th>Accuracy</th>\n",
              "      <th>time_train</th>\n",
              "      <th>columns</th>\n",
              "    </tr>\n",
              "  </thead>\n",
              "  <tbody>\n",
              "    <tr>\n",
              "      <th>0</th>\n",
              "      <td>lr</td>\n",
              "      <td>LogisticRegression(C=1.0, class_weight=None, d...</td>\n",
              "      <td>0.818759</td>\n",
              "      <td>0.449662</td>\n",
              "      <td>0.792434</td>\n",
              "      <td>3.659411</td>\n",
              "      <td>[avg_monthly_hrs, filed_complaint, last_evalua...</td>\n",
              "    </tr>\n",
              "    <tr>\n",
              "      <th>1</th>\n",
              "      <td>et</td>\n",
              "      <td>ExtraTreeClassifier(ccp_alpha=0.0, class_weigh...</td>\n",
              "      <td>0.929110</td>\n",
              "      <td>0.884852</td>\n",
              "      <td>0.944319</td>\n",
              "      <td>0.138073</td>\n",
              "      <td>[avg_monthly_hrs, filed_complaint, last_evalua...</td>\n",
              "    </tr>\n",
              "    <tr>\n",
              "      <th>2</th>\n",
              "      <td>rf</td>\n",
              "      <td>(DecisionTreeClassifier(ccp_alpha=0.0, class_w...</td>\n",
              "      <td>0.988028</td>\n",
              "      <td>0.952381</td>\n",
              "      <td>0.977968</td>\n",
              "      <td>4.873065</td>\n",
              "      <td>[avg_monthly_hrs, filed_complaint, last_evalua...</td>\n",
              "    </tr>\n",
              "    <tr>\n",
              "      <th>3</th>\n",
              "      <td>xgb</td>\n",
              "      <td>XGBClassifier(base_score=0.5, booster='gbtree'...</td>\n",
              "      <td>0.980282</td>\n",
              "      <td>0.932540</td>\n",
              "      <td>0.968688</td>\n",
              "      <td>4.043042</td>\n",
              "      <td>[avg_monthly_hrs, filed_complaint, last_evalua...</td>\n",
              "    </tr>\n",
              "    <tr>\n",
              "      <th>4</th>\n",
              "      <td>lgb</td>\n",
              "      <td>LGBMClassifier(boosting_type='gbdt', class_wei...</td>\n",
              "      <td>0.990414</td>\n",
              "      <td>0.950855</td>\n",
              "      <td>0.977189</td>\n",
              "      <td>3.427726</td>\n",
              "      <td>[avg_monthly_hrs, filed_complaint, last_evalua...</td>\n",
              "    </tr>\n",
              "  </tbody>\n",
              "</table>\n",
              "</div>"
            ],
            "text/plain": [
              "  Model_name  ...                                            columns\n",
              "0         lr  ...  [avg_monthly_hrs, filed_complaint, last_evalua...\n",
              "1         et  ...  [avg_monthly_hrs, filed_complaint, last_evalua...\n",
              "2         rf  ...  [avg_monthly_hrs, filed_complaint, last_evalua...\n",
              "3        xgb  ...  [avg_monthly_hrs, filed_complaint, last_evalua...\n",
              "4        lgb  ...  [avg_monthly_hrs, filed_complaint, last_evalua...\n",
              "\n",
              "[5 rows x 7 columns]"
            ]
          },
          "metadata": {
            "tags": []
          },
          "execution_count": 110
        }
      ]
    },
    {
      "cell_type": "markdown",
      "metadata": {
        "id": "ZNJq7RGOw3uT"
      },
      "source": [
        "#### Insight \n",
        "- As we can see LGBM is giving best AUC-ROC that is the reason we are performing hyper parameter tuning on it"
      ]
    },
    {
      "cell_type": "markdown",
      "metadata": {
        "id": "ZnPURQPsuD0G"
      },
      "source": [
        "<a id=section803></a>\n",
        "# 8.3 Hyper parameter tuning"
      ]
    },
    {
      "cell_type": "markdown",
      "metadata": {
        "id": "4ZOVX_yAuD0G"
      },
      "source": [
        "#### Defining a function for hyper parameter tuning\n",
        "\n",
        "This method finds the best parameters based on AUC-ROC. "
      ]
    },
    {
      "cell_type": "code",
      "metadata": {
        "id": "3foz1vo6uD0G"
      },
      "source": [
        "def hyper_parameter_tuning(X,y,updated_string_cate):\n",
        "  study = optuna.create_study(direction='maximize')\n",
        "  encode_type = 'ohe'\n",
        "  X_temp = encode_variable(X, columns=updated_string_cate, type_=encode_type)\n",
        "  y_temp = y.values\n",
        "  X_temp = X_temp.values\n",
        "  study.optimize(lambda trial: objective(trial, X_temp, y_temp), n_trials=20)\n",
        "  print(study.best_params)"
      ],
      "execution_count": null,
      "outputs": []
    },
    {
      "cell_type": "markdown",
      "metadata": {
        "id": "fqkBQKjNuD0G"
      },
      "source": [
        "#### Defining a function to applying the model \n",
        "\n",
        "Objective function does the following:\n",
        "    - Creates random parameters for the model \n",
        "    - Applies  random parameters to the model\n",
        "    - Returns ROC_AUC for the trained dataset"
      ]
    },
    {
      "cell_type": "code",
      "metadata": {
        "id": "GgGc6LKsuD0G"
      },
      "source": [
        "# import optuna\n",
        "def objective(trial, X, y, n_splits=5):\n",
        "  model_name = 'lgb'\n",
        "\n",
        "  param = {\n",
        "        'num_leaves': trial.suggest_int('num_leaves', 2, 256),\n",
        "        'learning_rate':trial.suggest_loguniform('learning_rate', 1e-2, 1e-1),\n",
        "        'colsample_bytree': trial.suggest_uniform('colsample_bytree', 0.4, 1.0),\n",
        "        'random_state':42,\n",
        "        'n_estimators':1000,\n",
        "    }\n",
        "\n",
        "  model = LGBMClassifier(**param)\n",
        "  skf = StratifiedKFold(n_splits = n_splits)\n",
        "\n",
        "\n",
        "  oobs = np.zeros(X.shape[0])\n",
        "\n",
        "  for i, (train_id, valid_id) in enumerate(skf.split(X,y)):\n",
        "    print(\"FOLD\",i)\n",
        "    X_train, y_train = X[train_id], y[train_id]\n",
        "    X_valid, y_valid = X[valid_id], y[valid_id]\n",
        "    if model_name in boosting_models:\n",
        "      model.fit(X_train, y_train, eval_set=[(X_valid, y_valid)], early_stopping_rounds=30, verbose=1000)\n",
        "    else:\n",
        "      model.fit(X_train, y_train)\n",
        "    \n",
        "    predictions = model.predict_proba(X_valid)\n",
        "    oobs[valid_id] = predictions[:,1]\n",
        "\n",
        "  roc_auc = roc_auc_score(y, oobs)\n",
        "\n",
        "  return roc_auc"
      ],
      "execution_count": null,
      "outputs": []
    },
    {
      "cell_type": "markdown",
      "metadata": {
        "id": "th17Asm4v9j5"
      },
      "source": [
        "<a id=section9></a>\n",
        "# 9. Submission for unseen Data\n",
        "\n",
        "- Parameters Found using hyper parameter for the model, Predicting the probabilities for the test dataset"
      ]
    },
    {
      "cell_type": "code",
      "metadata": {
        "colab": {
          "base_uri": "https://localhost:8080/"
        },
        "id": "bOlUez9kuD0H",
        "outputId": "7f485a1f-5e94-49f2-f5b9-ed550df4af1d"
      },
      "source": [
        "import time\n",
        "start = time.time()\n",
        "\n",
        "encode_type = 'ohe'\n",
        "\n",
        "params = {'num_leaves': 77, 'learning_rate': 0.015893279011659402, 'colsample_bytree': 0.8900306223727544, 'random_state':42, 'n_estimators':1000}\n",
        "\n",
        "model = LGBMClassifier(**params)\n",
        "\n",
        "X_temp = encode_variable(X, columns=updated_string_cate, type_=encode_type)\n",
        "X_test_temp = encode_variable(X_test, columns=updated_string_cate, type_=encode_type)\n",
        "# columns = X_temp.columns.tolist()\n",
        "\n",
        "print(len(X_temp.columns))\n",
        "chi2_features = SelectKBest(chi2, k = 18) \n",
        "X_kbest_features = chi2_features.fit_transform(X_temp, y.values) \n",
        "\n",
        "columns = X_temp.loc[:,chi2_features.get_support()].columns\n",
        "\n",
        "X_test_temp = X_test_temp[columns]\n",
        "\n",
        "X_temp = X_temp[columns].values\n",
        "y_temp = y.values\n",
        "X_test_temp = X_test_temp.values\n",
        "\n",
        "f1, auc, accuracy,predictions = run_model(model, X_temp, y_temp, 'LGB',X_test_temp)\n",
        "end = time.time()\n",
        "time_taken = end-start"
      ],
      "execution_count": null,
      "outputs": [
        {
          "output_type": "stream",
          "text": [
            "19\n",
            "FOLD 0\n",
            "FOLD 1\n",
            "FOLD 2\n",
            "FOLD 3\n",
            "FOLD 4\n",
            "_________AUC ROC LGB  SCORE__________\n",
            "0.9898425636208249\n",
            "_________F1 LGB  SCORE__________\n",
            "0.9545523635810913\n",
            "_________ACCURACY LGB  SCORE__________\n",
            "0.9788183621422499\n"
          ],
          "name": "stdout"
        }
      ]
    },
    {
      "cell_type": "markdown",
      "metadata": {
        "id": "OoWvoTCFxNGc"
      },
      "source": [
        "<a id=section901></a>\n",
        "# 9.1 Creating the Submission file"
      ]
    },
    {
      "cell_type": "code",
      "metadata": {
        "id": "pDCQ_A5bxa1h"
      },
      "source": [
        "test_data['status'] = predictions"
      ],
      "execution_count": null,
      "outputs": []
    },
    {
      "cell_type": "code",
      "metadata": {
        "colab": {
          "base_uri": "https://localhost:8080/",
          "height": 190
        },
        "id": "QpVpNGpRxlF8",
        "outputId": "c449dbb3-a69a-4673-e894-e047cb221a88"
      },
      "source": [
        "test_data.head()"
      ],
      "execution_count": null,
      "outputs": [
        {
          "output_type": "execute_result",
          "data": {
            "text/html": [
              "<div>\n",
              "<style scoped>\n",
              "    .dataframe tbody tr th:only-of-type {\n",
              "        vertical-align: middle;\n",
              "    }\n",
              "\n",
              "    .dataframe tbody tr th {\n",
              "        vertical-align: top;\n",
              "    }\n",
              "\n",
              "    .dataframe thead th {\n",
              "        text-align: right;\n",
              "    }\n",
              "</style>\n",
              "<table border=\"1\" class=\"dataframe\">\n",
              "  <thead>\n",
              "    <tr style=\"text-align: right;\">\n",
              "      <th></th>\n",
              "      <th>employee_id</th>\n",
              "      <th>age</th>\n",
              "      <th>gender</th>\n",
              "      <th>marital_status</th>\n",
              "      <th>avg_monthly_hrs</th>\n",
              "      <th>department</th>\n",
              "      <th>filed_complaint</th>\n",
              "      <th>last_evaluation</th>\n",
              "      <th>n_projects</th>\n",
              "      <th>recently_promoted</th>\n",
              "      <th>salary</th>\n",
              "      <th>satisfaction</th>\n",
              "      <th>tenure</th>\n",
              "      <th>dept_name</th>\n",
              "      <th>dept_head</th>\n",
              "      <th>status</th>\n",
              "    </tr>\n",
              "  </thead>\n",
              "  <tbody>\n",
              "    <tr>\n",
              "      <th>0</th>\n",
              "      <td>119045</td>\n",
              "      <td>27</td>\n",
              "      <td>Male</td>\n",
              "      <td>Unmarried</td>\n",
              "      <td>134</td>\n",
              "      <td>D00-IT</td>\n",
              "      <td>0.0</td>\n",
              "      <td>0.528841</td>\n",
              "      <td>2</td>\n",
              "      <td>0</td>\n",
              "      <td>1</td>\n",
              "      <td>0.400464</td>\n",
              "      <td>3</td>\n",
              "      <td>IT</td>\n",
              "      <td>Henry Adey</td>\n",
              "      <td>0.996263</td>\n",
              "    </tr>\n",
              "    <tr>\n",
              "      <th>1</th>\n",
              "      <td>112223</td>\n",
              "      <td>23</td>\n",
              "      <td>Male</td>\n",
              "      <td>Unmarried</td>\n",
              "      <td>221</td>\n",
              "      <td>D00-PD</td>\n",
              "      <td>0.0</td>\n",
              "      <td>0.784561</td>\n",
              "      <td>2</td>\n",
              "      <td>0</td>\n",
              "      <td>1</td>\n",
              "      <td>0.759513</td>\n",
              "      <td>3</td>\n",
              "      <td>Product</td>\n",
              "      <td>Darcy Staines</td>\n",
              "      <td>0.019890</td>\n",
              "    </tr>\n",
              "    <tr>\n",
              "      <th>2</th>\n",
              "      <td>103924</td>\n",
              "      <td>26</td>\n",
              "      <td>Male</td>\n",
              "      <td>Unmarried</td>\n",
              "      <td>156</td>\n",
              "      <td>D00-SS</td>\n",
              "      <td>0.0</td>\n",
              "      <td>0.545183</td>\n",
              "      <td>2</td>\n",
              "      <td>0</td>\n",
              "      <td>2</td>\n",
              "      <td>0.336457</td>\n",
              "      <td>3</td>\n",
              "      <td>Sales</td>\n",
              "      <td>Edward J Bayley</td>\n",
              "      <td>0.975907</td>\n",
              "    </tr>\n",
              "    <tr>\n",
              "      <th>3</th>\n",
              "      <td>105922</td>\n",
              "      <td>52</td>\n",
              "      <td>Male</td>\n",
              "      <td>Married</td>\n",
              "      <td>133</td>\n",
              "      <td>D00-PR</td>\n",
              "      <td>0.0</td>\n",
              "      <td>0.000000</td>\n",
              "      <td>4</td>\n",
              "      <td>0</td>\n",
              "      <td>2</td>\n",
              "      <td>0.832039</td>\n",
              "      <td>2</td>\n",
              "      <td>Procurement</td>\n",
              "      <td>Louie Viles</td>\n",
              "      <td>0.000924</td>\n",
              "    </tr>\n",
              "    <tr>\n",
              "      <th>4</th>\n",
              "      <td>103297</td>\n",
              "      <td>27</td>\n",
              "      <td>Male</td>\n",
              "      <td>Unmarried</td>\n",
              "      <td>135</td>\n",
              "      <td>D00-SS</td>\n",
              "      <td>0.0</td>\n",
              "      <td>0.454637</td>\n",
              "      <td>2</td>\n",
              "      <td>0</td>\n",
              "      <td>1</td>\n",
              "      <td>0.320723</td>\n",
              "      <td>5</td>\n",
              "      <td>Sales</td>\n",
              "      <td>Edward J Bayley</td>\n",
              "      <td>0.575503</td>\n",
              "    </tr>\n",
              "  </tbody>\n",
              "</table>\n",
              "</div>"
            ],
            "text/plain": [
              "   employee_id  age gender  ...    dept_name        dept_head    status\n",
              "0       119045   27   Male  ...           IT       Henry Adey  0.996263\n",
              "1       112223   23   Male  ...      Product    Darcy Staines  0.019890\n",
              "2       103924   26   Male  ...        Sales  Edward J Bayley  0.975907\n",
              "3       105922   52   Male  ...  Procurement      Louie Viles  0.000924\n",
              "4       103297   27   Male  ...        Sales  Edward J Bayley  0.575503\n",
              "\n",
              "[5 rows x 16 columns]"
            ]
          },
          "metadata": {
            "tags": []
          },
          "execution_count": 103
        }
      ]
    },
    {
      "cell_type": "code",
      "metadata": {
        "id": "aadmSGzxxsqx"
      },
      "source": [
        "test_data[['employee_id', 'status']].to_csv('submission.csv', index=False)"
      ],
      "execution_count": null,
      "outputs": []
    },
    {
      "cell_type": "code",
      "metadata": {
        "colab": {
          "base_uri": "https://localhost:8080/",
          "height": 190
        },
        "id": "8_PbSFEyxnUf",
        "outputId": "c9aa4d69-94cc-4505-e4a5-16298cddad65"
      },
      "source": [
        "test_data[['employee_id', 'status']].head()"
      ],
      "execution_count": null,
      "outputs": [
        {
          "output_type": "execute_result",
          "data": {
            "text/html": [
              "<div>\n",
              "<style scoped>\n",
              "    .dataframe tbody tr th:only-of-type {\n",
              "        vertical-align: middle;\n",
              "    }\n",
              "\n",
              "    .dataframe tbody tr th {\n",
              "        vertical-align: top;\n",
              "    }\n",
              "\n",
              "    .dataframe thead th {\n",
              "        text-align: right;\n",
              "    }\n",
              "</style>\n",
              "<table border=\"1\" class=\"dataframe\">\n",
              "  <thead>\n",
              "    <tr style=\"text-align: right;\">\n",
              "      <th></th>\n",
              "      <th>employee_id</th>\n",
              "      <th>status</th>\n",
              "    </tr>\n",
              "  </thead>\n",
              "  <tbody>\n",
              "    <tr>\n",
              "      <th>0</th>\n",
              "      <td>119045</td>\n",
              "      <td>0.996263</td>\n",
              "    </tr>\n",
              "    <tr>\n",
              "      <th>1</th>\n",
              "      <td>112223</td>\n",
              "      <td>0.019890</td>\n",
              "    </tr>\n",
              "    <tr>\n",
              "      <th>2</th>\n",
              "      <td>103924</td>\n",
              "      <td>0.975907</td>\n",
              "    </tr>\n",
              "    <tr>\n",
              "      <th>3</th>\n",
              "      <td>105922</td>\n",
              "      <td>0.000924</td>\n",
              "    </tr>\n",
              "    <tr>\n",
              "      <th>4</th>\n",
              "      <td>103297</td>\n",
              "      <td>0.575503</td>\n",
              "    </tr>\n",
              "  </tbody>\n",
              "</table>\n",
              "</div>"
            ],
            "text/plain": [
              "   employee_id    status\n",
              "0       119045  0.996263\n",
              "1       112223  0.019890\n",
              "2       103924  0.975907\n",
              "3       105922  0.000924\n",
              "4       103297  0.575503"
            ]
          },
          "metadata": {
            "tags": []
          },
          "execution_count": 105
        }
      ]
    },
    {
      "cell_type": "markdown",
      "metadata": {
        "id": "7CqzTK5hQg_k"
      },
      "source": [
        " ### Final Submission score-0.98 accuracy , 0.97 f1 score"
      ]
    },
    {
      "cell_type": "markdown",
      "metadata": {
        "id": "dZ-R2_VIy7GV"
      },
      "source": [
        "<a id=section10></a>\n",
        "# 10. Conclusions\n",
        "- Missing data has been handled.\n",
        "- Multiple models have been tested and best results are considered. (Logistic Regression, ExtraTreeClassifier, Random_Forest, XGBoost, LGBM)\n",
        "- **LIGHTGBM was the giving the best CV for the training data. F1-SCORE: 95 , AUC-ROC: 99%, ACCURACY:97.8%**\n",
        "- Used Stratified KFold for cross validation (it will avoid overfitting)\n",
        "- Used optuna for Hyperparameter tuning."
      ]
    }
  ]
}